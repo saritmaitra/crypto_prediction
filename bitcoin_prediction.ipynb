{
  "nbformat": 4,
  "nbformat_minor": 0,
  "metadata": {
    "colab": {
      "name": "bitcoin prediction.ipynb",
      "provenance": [],
      "authorship_tag": "ABX9TyPlNfP/FMK5HAW5+CBTve1Q",
      "include_colab_link": true
    },
    "kernelspec": {
      "name": "python3",
      "display_name": "Python 3"
    }
  },
  "cells": [
    {
      "cell_type": "markdown",
      "metadata": {
        "id": "view-in-github",
        "colab_type": "text"
      },
      "source": [
        "<a href=\"https://colab.research.google.com/github/saritmaitra/crypto_prediction/blob/master/bitcoin_prediction.ipynb\" target=\"_parent\"><img src=\"https://colab.research.google.com/assets/colab-badge.svg\" alt=\"Open In Colab\"/></a>"
      ]
    },
    {
      "cell_type": "code",
      "metadata": {
        "id": "YYsNudpMgdXt",
        "colab_type": "code",
        "colab": {}
      },
      "source": [
        "!pip install pyforest\n",
        "from pyforest import *\n",
        "from matplotlib import pyplot as plt\n",
        "import seaborn as sns\n",
        "from sklearn.ensemble import ExtraTreesRegressor\n",
        "from sklearn.preprocessing import LabelEncoder, StandardScaler\n",
        "from sklearn.model_selection import train_test_split\n",
        "import numpy as np\n",
        "import sklearn.metrics\n",
        "from pylab import rcParams\n",
        "%matplotlib inline\n",
        "pd.set_option('display.max_columns', 500)\n",
        "pd.set_option('display.max_rows', 500)\n",
        "from google.colab import files\n",
        "\n",
        "plt.style.use('ggplot')\n",
        "from sklearn.preprocessing import MinMaxScaler\n",
        "from keras.models import Sequential\n",
        "from keras.layers import Dense, LSTM, Dropout, GRU, Bidirectional\n",
        "from keras.optimizers import SGD\n",
        "import math\n",
        "from sklearn.metrics import mean_squared_error"
      ],
      "execution_count": null,
      "outputs": []
    },
    {
      "cell_type": "code",
      "metadata": {
        "id": "2_2FtMScg8Co",
        "colab_type": "code",
        "colab": {
          "base_uri": "https://localhost:8080/",
          "height": 17
        },
        "outputId": "346b3b96-572d-4bb3-be9c-00c9f9575951"
      },
      "source": [
        "import pandas_datareader as web\n",
        "import warnings\n",
        "warnings.filterwarnings(\"ignore\")\n",
        "pd.set_option('display.max_rows', 500)\n",
        "pd.set_option('display.max_columns', 500)\n",
        "pd.set_option('display.width', 150)"
      ],
      "execution_count": 4,
      "outputs": [
        {
          "output_type": "display_data",
          "data": {
            "application/javascript": [
              "\n",
              "        if (window._pyforest_update_imports_cell) { window._pyforest_update_imports_cell('import pandas as pd'); }\n",
              "    "
            ],
            "text/plain": [
              "<IPython.core.display.Javascript object>"
            ]
          },
          "metadata": {
            "tags": []
          }
        },
        {
          "output_type": "display_data",
          "data": {
            "application/javascript": [
              "\n",
              "        if (window._pyforest_update_imports_cell) { window._pyforest_update_imports_cell('import pandas as pd'); }\n",
              "    "
            ],
            "text/plain": [
              "<IPython.core.display.Javascript object>"
            ]
          },
          "metadata": {
            "tags": []
          }
        },
        {
          "output_type": "display_data",
          "data": {
            "application/javascript": [
              "\n",
              "        if (window._pyforest_update_imports_cell) { window._pyforest_update_imports_cell('import pandas as pd'); }\n",
              "    "
            ],
            "text/plain": [
              "<IPython.core.display.Javascript object>"
            ]
          },
          "metadata": {
            "tags": []
          }
        }
      ]
    },
    {
      "cell_type": "code",
      "metadata": {
        "id": "J-aWNAThnlQe",
        "colab_type": "code",
        "colab": {}
      },
      "source": [
        "pip install yfinance"
      ],
      "execution_count": null,
      "outputs": []
    },
    {
      "cell_type": "code",
      "metadata": {
        "id": "-Aqe-c2fndgU",
        "colab_type": "code",
        "colab": {
          "base_uri": "https://localhost:8080/",
          "height": 168
        },
        "outputId": "2acf694b-5dd3-4299-ca08-bc242a24bd78"
      },
      "source": [
        "import yfinance as yf\n",
        "\n",
        "btc = yf.Ticker(\"BTC-USD\")\n",
        "# get historical market data\n",
        "hist = btc.history(period=\"max\")\n",
        "df = hist[['Open', 'High', 'Low', 'Close', 'Volume']]\n",
        "print(df.tail()); print(); print(df.shape)"
      ],
      "execution_count": 137,
      "outputs": [
        {
          "output_type": "stream",
          "text": [
            "                Open      High       Low     Close       Volume\n",
            "Date                                                           \n",
            "2020-08-25  11773.59  11778.30  11189.85  11366.13  26301509932\n",
            "2020-08-26  11366.89  11530.05  11296.99  11488.36  22466660958\n",
            "2020-08-27  11485.61  11570.79  11185.94  11323.40  23240415076\n",
            "2020-08-28  11325.30  11545.62  11316.42  11542.50  19807127588\n",
            "2020-08-29  11545.08  11577.64  11475.02  11475.02  18894884864\n",
            "\n",
            "(2173, 5)\n"
          ],
          "name": "stdout"
        }
      ]
    },
    {
      "cell_type": "code",
      "metadata": {
        "id": "ji70ML-SgaIi",
        "colab_type": "code",
        "colab": {
          "base_uri": "https://localhost:8080/",
          "height": 225
        },
        "outputId": "9ffd7525-64c7-4548-bcc4-c0bd9dda1a7c"
      },
      "source": [
        "df.head()"
      ],
      "execution_count": 139,
      "outputs": [
        {
          "output_type": "execute_result",
          "data": {
            "text/html": [
              "<div>\n",
              "<style scoped>\n",
              "    .dataframe tbody tr th:only-of-type {\n",
              "        vertical-align: middle;\n",
              "    }\n",
              "\n",
              "    .dataframe tbody tr th {\n",
              "        vertical-align: top;\n",
              "    }\n",
              "\n",
              "    .dataframe thead th {\n",
              "        text-align: right;\n",
              "    }\n",
              "</style>\n",
              "<table border=\"1\" class=\"dataframe\">\n",
              "  <thead>\n",
              "    <tr style=\"text-align: right;\">\n",
              "      <th></th>\n",
              "      <th>Open</th>\n",
              "      <th>High</th>\n",
              "      <th>Low</th>\n",
              "      <th>Close</th>\n",
              "      <th>Volume</th>\n",
              "    </tr>\n",
              "    <tr>\n",
              "      <th>Date</th>\n",
              "      <th></th>\n",
              "      <th></th>\n",
              "      <th></th>\n",
              "      <th></th>\n",
              "      <th></th>\n",
              "    </tr>\n",
              "  </thead>\n",
              "  <tbody>\n",
              "    <tr>\n",
              "      <th>2014-09-17</th>\n",
              "      <td>465.86</td>\n",
              "      <td>468.17</td>\n",
              "      <td>452.42</td>\n",
              "      <td>457.33</td>\n",
              "      <td>21056800</td>\n",
              "    </tr>\n",
              "    <tr>\n",
              "      <th>2014-09-18</th>\n",
              "      <td>456.86</td>\n",
              "      <td>456.86</td>\n",
              "      <td>413.10</td>\n",
              "      <td>424.44</td>\n",
              "      <td>34483200</td>\n",
              "    </tr>\n",
              "    <tr>\n",
              "      <th>2014-09-19</th>\n",
              "      <td>424.10</td>\n",
              "      <td>427.83</td>\n",
              "      <td>384.53</td>\n",
              "      <td>394.80</td>\n",
              "      <td>37919700</td>\n",
              "    </tr>\n",
              "    <tr>\n",
              "      <th>2014-09-20</th>\n",
              "      <td>394.67</td>\n",
              "      <td>423.30</td>\n",
              "      <td>389.88</td>\n",
              "      <td>408.90</td>\n",
              "      <td>36863600</td>\n",
              "    </tr>\n",
              "    <tr>\n",
              "      <th>2014-09-21</th>\n",
              "      <td>408.08</td>\n",
              "      <td>412.43</td>\n",
              "      <td>393.18</td>\n",
              "      <td>398.82</td>\n",
              "      <td>26580100</td>\n",
              "    </tr>\n",
              "  </tbody>\n",
              "</table>\n",
              "</div>"
            ],
            "text/plain": [
              "              Open    High     Low   Close    Volume\n",
              "Date                                                \n",
              "2014-09-17  465.86  468.17  452.42  457.33  21056800\n",
              "2014-09-18  456.86  456.86  413.10  424.44  34483200\n",
              "2014-09-19  424.10  427.83  384.53  394.80  37919700\n",
              "2014-09-20  394.67  423.30  389.88  408.90  36863600\n",
              "2014-09-21  408.08  412.43  393.18  398.82  26580100"
            ]
          },
          "metadata": {
            "tags": []
          },
          "execution_count": 139
        }
      ]
    },
    {
      "cell_type": "code",
      "metadata": {
        "id": "JKcHd4GogenJ",
        "colab_type": "code",
        "colab": {
          "base_uri": "https://localhost:8080/",
          "height": 284
        },
        "outputId": "f9a1ab0b-360a-4ec5-f8b5-b314662ad88d"
      },
      "source": [
        "df.describe()"
      ],
      "execution_count": 140,
      "outputs": [
        {
          "output_type": "execute_result",
          "data": {
            "text/html": [
              "<div>\n",
              "<style scoped>\n",
              "    .dataframe tbody tr th:only-of-type {\n",
              "        vertical-align: middle;\n",
              "    }\n",
              "\n",
              "    .dataframe tbody tr th {\n",
              "        vertical-align: top;\n",
              "    }\n",
              "\n",
              "    .dataframe thead th {\n",
              "        text-align: right;\n",
              "    }\n",
              "</style>\n",
              "<table border=\"1\" class=\"dataframe\">\n",
              "  <thead>\n",
              "    <tr style=\"text-align: right;\">\n",
              "      <th></th>\n",
              "      <th>Open</th>\n",
              "      <th>High</th>\n",
              "      <th>Low</th>\n",
              "      <th>Close</th>\n",
              "      <th>Volume</th>\n",
              "    </tr>\n",
              "  </thead>\n",
              "  <tbody>\n",
              "    <tr>\n",
              "      <th>count</th>\n",
              "      <td>2173.000000</td>\n",
              "      <td>2173.000000</td>\n",
              "      <td>2173.000000</td>\n",
              "      <td>2173.000000</td>\n",
              "      <td>2.173000e+03</td>\n",
              "    </tr>\n",
              "    <tr>\n",
              "      <th>mean</th>\n",
              "      <td>4337.489268</td>\n",
              "      <td>4448.061431</td>\n",
              "      <td>4220.204993</td>\n",
              "      <td>4342.490152</td>\n",
              "      <td>7.744282e+09</td>\n",
              "    </tr>\n",
              "    <tr>\n",
              "      <th>std</th>\n",
              "      <td>4107.245418</td>\n",
              "      <td>4227.794096</td>\n",
              "      <td>3968.729128</td>\n",
              "      <td>4109.325032</td>\n",
              "      <td>1.152054e+10</td>\n",
              "    </tr>\n",
              "    <tr>\n",
              "      <th>min</th>\n",
              "      <td>176.900000</td>\n",
              "      <td>211.730000</td>\n",
              "      <td>171.510000</td>\n",
              "      <td>178.100000</td>\n",
              "      <td>5.914570e+06</td>\n",
              "    </tr>\n",
              "    <tr>\n",
              "      <th>25%</th>\n",
              "      <td>431.660000</td>\n",
              "      <td>436.020000</td>\n",
              "      <td>424.430000</td>\n",
              "      <td>431.960000</td>\n",
              "      <td>5.936640e+07</td>\n",
              "    </tr>\n",
              "    <tr>\n",
              "      <th>50%</th>\n",
              "      <td>3584.500000</td>\n",
              "      <td>3647.330000</td>\n",
              "      <td>3487.170000</td>\n",
              "      <td>3585.120000</td>\n",
              "      <td>1.844620e+09</td>\n",
              "    </tr>\n",
              "    <tr>\n",
              "      <th>75%</th>\n",
              "      <td>7836.830000</td>\n",
              "      <td>8076.890000</td>\n",
              "      <td>7615.990000</td>\n",
              "      <td>7871.690000</td>\n",
              "      <td>1.233650e+10</td>\n",
              "    </tr>\n",
              "    <tr>\n",
              "      <th>max</th>\n",
              "      <td>19475.800000</td>\n",
              "      <td>20089.000000</td>\n",
              "      <td>18974.100000</td>\n",
              "      <td>19497.400000</td>\n",
              "      <td>7.415677e+10</td>\n",
              "    </tr>\n",
              "  </tbody>\n",
              "</table>\n",
              "</div>"
            ],
            "text/plain": [
              "               Open          High           Low         Close        Volume\n",
              "count   2173.000000   2173.000000   2173.000000   2173.000000  2.173000e+03\n",
              "mean    4337.489268   4448.061431   4220.204993   4342.490152  7.744282e+09\n",
              "std     4107.245418   4227.794096   3968.729128   4109.325032  1.152054e+10\n",
              "min      176.900000    211.730000    171.510000    178.100000  5.914570e+06\n",
              "25%      431.660000    436.020000    424.430000    431.960000  5.936640e+07\n",
              "50%     3584.500000   3647.330000   3487.170000   3585.120000  1.844620e+09\n",
              "75%     7836.830000   8076.890000   7615.990000   7871.690000  1.233650e+10\n",
              "max    19475.800000  20089.000000  18974.100000  19497.400000  7.415677e+10"
            ]
          },
          "metadata": {
            "tags": []
          },
          "execution_count": 140
        }
      ]
    },
    {
      "cell_type": "code",
      "metadata": {
        "id": "Tsn6ossqgB5y",
        "colab_type": "code",
        "colab": {
          "base_uri": "https://localhost:8080/",
          "height": 320
        },
        "outputId": "4fe7b099-8d8d-456f-95a7-e072ddbe7cd0"
      },
      "source": [
        "df['Close'].hist(bins=30, figsize=(10,5)).axvline(df['Close'].mean(), \n",
        "                                                 color='b', linestyle='dashed', linewidth=2)\n",
        "plt.show()"
      ],
      "execution_count": 141,
      "outputs": [
        {
          "output_type": "display_data",
          "data": {
            "image/png": "[encoded data removed]",
            "text/plain": [
              "<Figure size 720x360 with 1 Axes>"
            ]
          },
          "metadata": {
            "tags": []
          }
        }
      ]
    },
    {
      "cell_type": "code",
      "metadata": {
        "id": "VO4mgmNh8rXK",
        "colab_type": "code",
        "colab": {
          "base_uri": "https://localhost:8080/",
          "height": 542
        },
        "outputId": "85902f95-a783-4b90-a8dc-d7a9c076e840"
      },
      "source": [
        "fig = go.Figure(data=[go.Candlestick(x=df.index[-30:],\n",
        "                                     open=df['Open'][-30:],\n",
        "                                     high=df['High'][-30:],\n",
        "                                     low=df['Low'][-30:],\n",
        "                                     close=df['Close'][-30:])])\n",
        "fig.update_xaxes(showline=True, linewidth=2, linecolor='black', mirror=True)\n",
        "fig.update_yaxes(showline=True, linewidth=2, linecolor='black', mirror=True)\n",
        "fig.update_layout(title='Last 30 days BTC price', yaxis_title='BTC (US$)')\n",
        "fig.show()"
      ],
      "execution_count": 119,
      "outputs": [
        {
          "output_type": "display_data",
          "data": {
            "application/javascript": [
              "\n",
              "        if (window._pyforest_update_imports_cell) { window._pyforest_update_imports_cell('import plotly as py\\nimport lightgbm as lgb\\nfrom openpyxl import load_workbook\\nimport plotly.graph_objs as go\\nimport tensorflow as tf\\nimport plotly.express as px\\nimport bokeh\\nimport pydot\\nimport pandas as pd\\nimport altair as alt\\nfrom sklearn.ensemble import RandomForestClassifier\\nfrom sklearn.preprocessing import OneHotEncoder\\nfrom sklearn.ensemble import RandomForestRegressor\\nimport pickle\\nimport tqdm'); }\n",
              "    "
            ],
            "text/plain": [
              "<IPython.core.display.Javascript object>"
            ]
          },
          "metadata": {
            "tags": []
          }
        },
        {
          "output_type": "display_data",
          "data": {
            "application/javascript": [
              "\n",
              "        if (window._pyforest_update_imports_cell) { window._pyforest_update_imports_cell('import plotly as py\\nimport lightgbm as lgb\\nfrom openpyxl import load_workbook\\nimport plotly.graph_objs as go\\nimport tensorflow as tf\\nimport plotly.express as px\\nimport bokeh\\nimport pydot\\nimport pandas as pd\\nimport altair as alt\\nfrom sklearn.ensemble import RandomForestClassifier\\nfrom sklearn.preprocessing import OneHotEncoder\\nfrom sklearn.ensemble import RandomForestRegressor\\nimport pickle\\nimport tqdm'); }\n",
              "    "
            ],
            "text/plain": [
              "<IPython.core.display.Javascript object>"
            ]
          },
          "metadata": {
            "tags": []
          }
        },
        {
          "output_type": "display_data",
          "data": {
            "text/html": [
              "<html>\n",
              "<head><meta charset=\"utf-8\" /></head>\n",
              "<body>\n",
              "    <div>\n",
              "            <script src=\"https://cdnjs.cloudflare.com/ajax/libs/mathjax/2.7.5/MathJax.js?config=TeX-AMS-MML_SVG\"></script><script type=\"text/javascript\">if (window.MathJax) {MathJax.Hub.Config({SVG: {font: \"STIX-Web\"}});}</script>\n",
              "                <script type=\"text/javascript\">window.PlotlyConfig = {MathJaxConfig: 'local'};</script>\n",
              "        <script src=\"https://cdn.plot.ly/plotly-latest.min.js\"></script>    \n",
              "            <div id=\"32705d76-446f-4f6b-b74b-f04a07972616\" class=\"plotly-graph-div\" style=\"height:525px; width:100%;\"></div>\n",
              "            <script type=\"text/javascript\">\n",
              "                \n",
              "                    window.PLOTLYENV=window.PLOTLYENV || {};\n",
              "                    \n",
              "                if (document.getElementById(\"32705d76-446f-4f6b-b74b-f04a07972616\")) {\n",
              "                    Plotly.newPlot(\n",
              "                        '32705d76-446f-4f6b-b74b-f04a07972616',\n",
              "                        [{\"close\": [11111.21, 11323.47, 11759.59, 11053.61, 11246.35, 11747.02, 11779.77, 11601.47, 11754.05, 11675.74, 11878.11, 11410.53, 11584.93, 11784.14, 11768.87, 11865.7, 11892.8, 12254.4, 11991.23, 11758.28, 11878.37, 11592.49, 11681.83, 11664.85, 11774.6, 11366.13, 11488.36, 11323.4, 11542.5, 11479.13], \"high\": [11169.36, 11415.86, 11794.78, 12034.14, 11453.08, 11786.62, 11902.34, 11898.04, 11800.06, 11806.06, 12045.14, 11932.71, 11748.4, 11796.4, 12150.99, 11963.2, 11934.9, 12359.06, 12335.71, 12028.92, 11900.41, 11899.26, 11689.41, 11713.43, 11807.63, 11778.3, 11530.05, 11570.79, 11545.62, 11577.64], \"low\": [10895.46, 10987.05, 11239.68, 11018.13, 11012.42, 11158.29, 11598.71, 11408.59, 11558.43, 11548.78, 11662.26, 11195.71, 11249.61, 11216.87, 11685.46, 11768.7, 11737.19, 11806.7, 11954.53, 11687.33, 11710.06, 11564.98, 11448.81, 11559.92, 11623.25, 11189.85, 11296.99, 11185.94, 11316.42, 11479.13], \"open\": [11099.83, 11110.21, 11322.57, 11758.76, 11043.77, 11203.82, 11749.87, 11778.89, 11604.55, 11737.33, 11662.26, 11881.65, 11404.6, 11588.41, 11772.66, 11768.7, 11866.69, 11895.66, 12251.9, 11990.88, 11761.5, 11878.03, 11585.48, 11679.7, 11663.69, 11773.59, 11366.89, 11485.61, 11325.3, 11545.08], \"type\": \"candlestick\", \"x\": [\"2020-07-30T00:00:00\", \"2020-07-31T00:00:00\", \"2020-08-01T00:00:00\", \"2020-08-02T00:00:00\", \"2020-08-03T00:00:00\", \"2020-08-05T00:00:00\", \"2020-08-06T00:00:00\", \"2020-08-07T00:00:00\", \"2020-08-08T00:00:00\", \"2020-08-09T00:00:00\", \"2020-08-10T00:00:00\", \"2020-08-11T00:00:00\", \"2020-08-12T00:00:00\", \"2020-08-13T00:00:00\", \"2020-08-14T00:00:00\", \"2020-08-15T00:00:00\", \"2020-08-16T00:00:00\", \"2020-08-17T00:00:00\", \"2020-08-18T00:00:00\", \"2020-08-19T00:00:00\", \"2020-08-20T00:00:00\", \"2020-08-21T00:00:00\", \"2020-08-22T00:00:00\", \"2020-08-23T00:00:00\", \"2020-08-24T00:00:00\", \"2020-08-25T00:00:00\", \"2020-08-26T00:00:00\", \"2020-08-27T00:00:00\", \"2020-08-28T00:00:00\", \"2020-08-29T00:00:00\"]}],\n",
              "                        {\"template\": {\"data\": {\"bar\": [{\"error_x\": {\"color\": \"#2a3f5f\"}, \"error_y\": {\"color\": \"#2a3f5f\"}, \"marker\": {\"line\": {\"color\": \"#E5ECF6\", \"width\": 0.5}}, \"type\": \"bar\"}], \"barpolar\": [{\"marker\": {\"line\": {\"color\": \"#E5ECF6\", \"width\": 0.5}}, \"type\": \"barpolar\"}], \"carpet\": [{\"aaxis\": {\"endlinecolor\": \"#2a3f5f\", \"gridcolor\": \"white\", \"linecolor\": \"white\", \"minorgridcolor\": \"white\", \"startlinecolor\": \"#2a3f5f\"}, \"baxis\": {\"endlinecolor\": \"#2a3f5f\", \"gridcolor\": \"white\", \"linecolor\": \"white\", \"minorgridcolor\": \"white\", \"startlinecolor\": \"#2a3f5f\"}, \"type\": \"carpet\"}], \"choropleth\": [{\"colorbar\": {\"outlinewidth\": 0, \"ticks\": \"\"}, \"type\": \"choropleth\"}], \"contour\": [{\"colorbar\": {\"outlinewidth\": 0, \"ticks\": \"\"}, \"colorscale\": [[0.0, \"#0d0887\"], [0.1111111111111111, \"#46039f\"], [0.2222222222222222, \"#7201a8\"], [0.3333333333333333, \"#9c179e\"], [0.4444444444444444, \"#bd3786\"], [0.5555555555555556, \"#d8576b\"], [0.6666666666666666, \"#ed7953\"], [0.7777777777777778, \"#fb9f3a\"], [0.8888888888888888, \"#fdca26\"], [1.0, \"#f0f921\"]], \"type\": \"contour\"}], \"contourcarpet\": [{\"colorbar\": {\"outlinewidth\": 0, \"ticks\": \"\"}, \"type\": \"contourcarpet\"}], \"heatmap\": [{\"colorbar\": {\"outlinewidth\": 0, \"ticks\": \"\"}, \"colorscale\": [[0.0, \"#0d0887\"], [0.1111111111111111, \"#46039f\"], [0.2222222222222222, \"#7201a8\"], [0.3333333333333333, \"#9c179e\"], [0.4444444444444444, \"#bd3786\"], [0.5555555555555556, \"#d8576b\"], [0.6666666666666666, \"#ed7953\"], [0.7777777777777778, \"#fb9f3a\"], [0.8888888888888888, \"#fdca26\"], [1.0, \"#f0f921\"]], \"type\": \"heatmap\"}], \"heatmapgl\": [{\"colorbar\": {\"outlinewidth\": 0, \"ticks\": \"\"}, \"colorscale\": [[0.0, \"#0d0887\"], [0.1111111111111111, \"#46039f\"], [0.2222222222222222, \"#7201a8\"], [0.3333333333333333, \"#9c179e\"], [0.4444444444444444, \"#bd3786\"], [0.5555555555555556, \"#d8576b\"], [0.6666666666666666, \"#ed7953\"], [0.7777777777777778, \"#fb9f3a\"], [0.8888888888888888, \"#fdca26\"], [1.0, \"#f0f921\"]], \"type\": \"heatmapgl\"}], \"histogram\": [{\"marker\": {\"colorbar\": {\"outlinewidth\": 0, \"ticks\": \"\"}}, \"type\": \"histogram\"}], \"histogram2d\": [{\"colorbar\": {\"outlinewidth\": 0, \"ticks\": \"\"}, \"colorscale\": [[0.0, \"#0d0887\"], [0.1111111111111111, \"#46039f\"], [0.2222222222222222, \"#7201a8\"], [0.3333333333333333, \"#9c179e\"], [0.4444444444444444, \"#bd3786\"], [0.5555555555555556, \"#d8576b\"], [0.6666666666666666, \"#ed7953\"], [0.7777777777777778, \"#fb9f3a\"], [0.8888888888888888, \"#fdca26\"], [1.0, \"#f0f921\"]], \"type\": \"histogram2d\"}], \"histogram2dcontour\": [{\"colorbar\": {\"outlinewidth\": 0, \"ticks\": \"\"}, \"colorscale\": [[0.0, \"#0d0887\"], [0.1111111111111111, \"#46039f\"], [0.2222222222222222, \"#7201a8\"], [0.3333333333333333, \"#9c179e\"], [0.4444444444444444, \"#bd3786\"], [0.5555555555555556, \"#d8576b\"], [0.6666666666666666, \"#ed7953\"], [0.7777777777777778, \"#fb9f3a\"], [0.8888888888888888, \"#fdca26\"], [1.0, \"#f0f921\"]], \"type\": \"histogram2dcontour\"}], \"mesh3d\": [{\"colorbar\": {\"outlinewidth\": 0, \"ticks\": \"\"}, \"type\": \"mesh3d\"}], \"parcoords\": [{\"line\": {\"colorbar\": {\"outlinewidth\": 0, \"ticks\": \"\"}}, \"type\": \"parcoords\"}], \"pie\": [{\"automargin\": true, \"type\": \"pie\"}], \"scatter\": [{\"marker\": {\"colorbar\": {\"outlinewidth\": 0, \"ticks\": \"\"}}, \"type\": \"scatter\"}], \"scatter3d\": [{\"line\": {\"colorbar\": {\"outlinewidth\": 0, \"ticks\": \"\"}}, \"marker\": {\"colorbar\": {\"outlinewidth\": 0, \"ticks\": \"\"}}, \"type\": \"scatter3d\"}], \"scattercarpet\": [{\"marker\": {\"colorbar\": {\"outlinewidth\": 0, \"ticks\": \"\"}}, \"type\": \"scattercarpet\"}], \"scattergeo\": [{\"marker\": {\"colorbar\": {\"outlinewidth\": 0, \"ticks\": \"\"}}, \"type\": \"scattergeo\"}], \"scattergl\": [{\"marker\": {\"colorbar\": {\"outlinewidth\": 0, \"ticks\": \"\"}}, \"type\": \"scattergl\"}], \"scattermapbox\": [{\"marker\": {\"colorbar\": {\"outlinewidth\": 0, \"ticks\": \"\"}}, \"type\": \"scattermapbox\"}], \"scatterpolar\": [{\"marker\": {\"colorbar\": {\"outlinewidth\": 0, \"ticks\": \"\"}}, \"type\": \"scatterpolar\"}], \"scatterpolargl\": [{\"marker\": {\"colorbar\": {\"outlinewidth\": 0, \"ticks\": \"\"}}, \"type\": \"scatterpolargl\"}], \"scatterternary\": [{\"marker\": {\"colorbar\": {\"outlinewidth\": 0, \"ticks\": \"\"}}, \"type\": \"scatterternary\"}], \"surface\": [{\"colorbar\": {\"outlinewidth\": 0, \"ticks\": \"\"}, \"colorscale\": [[0.0, \"#0d0887\"], [0.1111111111111111, \"#46039f\"], [0.2222222222222222, \"#7201a8\"], [0.3333333333333333, \"#9c179e\"], [0.4444444444444444, \"#bd3786\"], [0.5555555555555556, \"#d8576b\"], [0.6666666666666666, \"#ed7953\"], [0.7777777777777778, \"#fb9f3a\"], [0.8888888888888888, \"#fdca26\"], [1.0, \"#f0f921\"]], \"type\": \"surface\"}], \"table\": [{\"cells\": {\"fill\": {\"color\": \"#EBF0F8\"}, \"line\": {\"color\": \"white\"}}, \"header\": {\"fill\": {\"color\": \"#C8D4E3\"}, \"line\": {\"color\": \"white\"}}, \"type\": \"table\"}]}, \"layout\": {\"annotationdefaults\": {\"arrowcolor\": \"#2a3f5f\", \"arrowhead\": 0, \"arrowwidth\": 1}, \"coloraxis\": {\"colorbar\": {\"outlinewidth\": 0, \"ticks\": \"\"}}, \"colorscale\": {\"diverging\": [[0, \"#8e0152\"], [0.1, \"#c51b7d\"], [0.2, \"#de77ae\"], [0.3, \"#f1b6da\"], [0.4, \"#fde0ef\"], [0.5, \"#f7f7f7\"], [0.6, \"#e6f5d0\"], [0.7, \"#b8e186\"], [0.8, \"#7fbc41\"], [0.9, \"#4d9221\"], [1, \"#276419\"]], \"sequential\": [[0.0, \"#0d0887\"], [0.1111111111111111, \"#46039f\"], [0.2222222222222222, \"#7201a8\"], [0.3333333333333333, \"#9c179e\"], [0.4444444444444444, \"#bd3786\"], [0.5555555555555556, \"#d8576b\"], [0.6666666666666666, \"#ed7953\"], [0.7777777777777778, \"#fb9f3a\"], [0.8888888888888888, \"#fdca26\"], [1.0, \"#f0f921\"]], \"sequentialminus\": [[0.0, \"#0d0887\"], [0.1111111111111111, \"#46039f\"], [0.2222222222222222, \"#7201a8\"], [0.3333333333333333, \"#9c179e\"], [0.4444444444444444, \"#bd3786\"], [0.5555555555555556, \"#d8576b\"], [0.6666666666666666, \"#ed7953\"], [0.7777777777777778, \"#fb9f3a\"], [0.8888888888888888, \"#fdca26\"], [1.0, \"#f0f921\"]]}, \"colorway\": [\"#636efa\", \"#EF553B\", \"#00cc96\", \"#ab63fa\", \"#FFA15A\", \"#19d3f3\", \"#FF6692\", \"#B6E880\", \"#FF97FF\", \"#FECB52\"], \"font\": {\"color\": \"#2a3f5f\"}, \"geo\": {\"bgcolor\": \"white\", \"lakecolor\": \"white\", \"landcolor\": \"#E5ECF6\", \"showlakes\": true, \"showland\": true, \"subunitcolor\": \"white\"}, \"hoverlabel\": {\"align\": \"left\"}, \"hovermode\": \"closest\", \"mapbox\": {\"style\": \"light\"}, \"paper_bgcolor\": \"white\", \"plot_bgcolor\": \"#E5ECF6\", \"polar\": {\"angularaxis\": {\"gridcolor\": \"white\", \"linecolor\": \"white\", \"ticks\": \"\"}, \"bgcolor\": \"#E5ECF6\", \"radialaxis\": {\"gridcolor\": \"white\", \"linecolor\": \"white\", \"ticks\": \"\"}}, \"scene\": {\"xaxis\": {\"backgroundcolor\": \"#E5ECF6\", \"gridcolor\": \"white\", \"gridwidth\": 2, \"linecolor\": \"white\", \"showbackground\": true, \"ticks\": \"\", \"zerolinecolor\": \"white\"}, \"yaxis\": {\"backgroundcolor\": \"#E5ECF6\", \"gridcolor\": \"white\", \"gridwidth\": 2, \"linecolor\": \"white\", \"showbackground\": true, \"ticks\": \"\", \"zerolinecolor\": \"white\"}, \"zaxis\": {\"backgroundcolor\": \"#E5ECF6\", \"gridcolor\": \"white\", \"gridwidth\": 2, \"linecolor\": \"white\", \"showbackground\": true, \"ticks\": \"\", \"zerolinecolor\": \"white\"}}, \"shapedefaults\": {\"line\": {\"color\": \"#2a3f5f\"}}, \"ternary\": {\"aaxis\": {\"gridcolor\": \"white\", \"linecolor\": \"white\", \"ticks\": \"\"}, \"baxis\": {\"gridcolor\": \"white\", \"linecolor\": \"white\", \"ticks\": \"\"}, \"bgcolor\": \"#E5ECF6\", \"caxis\": {\"gridcolor\": \"white\", \"linecolor\": \"white\", \"ticks\": \"\"}}, \"title\": {\"x\": 0.05}, \"xaxis\": {\"automargin\": true, \"gridcolor\": \"white\", \"linecolor\": \"white\", \"ticks\": \"\", \"title\": {\"standoff\": 15}, \"zerolinecolor\": \"white\", \"zerolinewidth\": 2}, \"yaxis\": {\"automargin\": true, \"gridcolor\": \"white\", \"linecolor\": \"white\", \"ticks\": \"\", \"title\": {\"standoff\": 15}, \"zerolinecolor\": \"white\", \"zerolinewidth\": 2}}}, \"title\": {\"text\": \"Last 30 days BTC price\"}, \"xaxis\": {\"linecolor\": \"black\", \"linewidth\": 2, \"mirror\": true, \"showline\": true}, \"yaxis\": {\"linecolor\": \"black\", \"linewidth\": 2, \"mirror\": true, \"showline\": true, \"title\": {\"text\": \"BTC (US$)\"}}},\n",
              "                        {\"responsive\": true}\n",
              "                    ).then(function(){\n",
              "                            \n",
              "var gd = document.getElementById('32705d76-446f-4f6b-b74b-f04a07972616');\n",
              "var x = new MutationObserver(function (mutations, observer) {{\n",
              "        var display = window.getComputedStyle(gd).display;\n",
              "        if (!display || display === 'none') {{\n",
              "            console.log([gd, 'removed!']);\n",
              "            Plotly.purge(gd);\n",
              "            observer.disconnect();\n",
              "        }}\n",
              "}});\n",
              "\n",
              "// Listen for the removal of the full notebook cells\n",
              "var notebookContainer = gd.closest('#notebook-container');\n",
              "if (notebookContainer) {{\n",
              "    x.observe(notebookContainer, {childList: true});\n",
              "}}\n",
              "\n",
              "// Listen for the clearing of the current output cell\n",
              "var outputEl = gd.closest('.output');\n",
              "if (outputEl) {{\n",
              "    x.observe(outputEl, {childList: true});\n",
              "}}\n",
              "\n",
              "                        })\n",
              "                };\n",
              "                \n",
              "            </script>\n",
              "        </div>\n",
              "</body>\n",
              "</html>"
            ]
          },
          "metadata": {
            "tags": []
          }
        }
      ]
    },
    {
      "cell_type": "code",
      "metadata": {
        "id": "CGjxHUbUiSmH",
        "colab_type": "code",
        "colab": {}
      },
      "source": [
        "pip install ta"
      ],
      "execution_count": null,
      "outputs": []
    },
    {
      "cell_type": "code",
      "metadata": {
        "id": "HW0VHiFqiZK4",
        "colab_type": "code",
        "colab": {
          "base_uri": "https://localhost:8080/",
          "height": 235
        },
        "outputId": "6c41e7bf-1b50-4d3f-ba3f-a4aa483dd920"
      },
      "source": [
        "# Technical Analysis library\n",
        "import ta\n",
        "\n",
        "## Technical Indicators\n",
        "\n",
        "# Adding all the indicators\n",
        "df = ta.add_all_ta_features(df, open=\"Open\", high=\"High\", low=\"Low\", \n",
        "                            close=\"Close\", volume=\"Volume\", fillna=True)\n",
        "\n",
        "# Dropping Open', 'High', 'Low', 'Volume' \n",
        "df.drop(['Open', 'High', 'Low', 'Volume'], axis=1, inplace=True)\n",
        "print(df.columns);print(); print(df.shape)"
      ],
      "execution_count": 129,
      "outputs": [
        {
          "output_type": "stream",
          "text": [
            "Index(['Close', 'volume_adi', 'volume_obv', 'volume_cmf', 'volume_fi', 'momentum_mfi', 'volume_em', 'volume_sma_em', 'volume_vpt', 'volume_nvi',\n",
            "       'volume_vwap', 'volatility_atr', 'volatility_bbm', 'volatility_bbh', 'volatility_bbl', 'volatility_bbw', 'volatility_bbp', 'volatility_bbhi',\n",
            "       'volatility_bbli', 'volatility_kcc', 'volatility_kch', 'volatility_kcl', 'volatility_kcw', 'volatility_kcp', 'volatility_kchi',\n",
            "       'volatility_kcli', 'volatility_dcl', 'volatility_dch', 'trend_macd', 'trend_macd_signal', 'trend_macd_diff', 'trend_sma_fast',\n",
            "       'trend_sma_slow', 'trend_ema_fast', 'trend_ema_slow', 'trend_adx', 'trend_adx_pos', 'trend_adx_neg', 'trend_vortex_ind_pos',\n",
            "       'trend_vortex_ind_neg', 'trend_vortex_ind_diff', 'trend_trix', 'trend_mass_index', 'trend_cci', 'trend_dpo', 'trend_kst', 'trend_kst_sig',\n",
            "       'trend_kst_diff', 'trend_ichimoku_conv', 'trend_ichimoku_base', 'trend_ichimoku_a', 'trend_ichimoku_b', 'trend_visual_ichimoku_a',\n",
            "       'trend_visual_ichimoku_b', 'trend_aroon_up', 'trend_aroon_down', 'trend_aroon_ind', 'trend_psar_up', 'trend_psar_down',\n",
            "       'trend_psar_up_indicator', 'trend_psar_down_indicator', 'momentum_rsi', 'momentum_tsi', 'momentum_uo', 'momentum_stoch',\n",
            "       'momentum_stoch_signal', 'momentum_wr', 'momentum_ao', 'momentum_kama', 'momentum_roc', 'others_dr', 'others_dlr', 'others_cr'],\n",
            "      dtype='object')\n",
            "\n",
            "(2173, 73)\n"
          ],
          "name": "stdout"
        }
      ]
    },
    {
      "cell_type": "code",
      "metadata": {
        "id": "3AdJyLPLpJ8Z",
        "colab_type": "code",
        "colab": {
          "base_uri": "https://localhost:8080/",
          "height": 168
        },
        "outputId": "d8d4e7d3-a036-4414-a7f1-6b741d92bbd9"
      },
      "source": [
        "X = df.drop(columns = ['Close'], axis=1)\n",
        "y = df.Close\n",
        "\n",
        "# we will be keeping 30 most correlated features with 'Close' column\n",
        "correlations = np.abs(X.corrwith(y))\n",
        "features =  list(correlations.sort_values(ascending=False)[0:20].index)\n",
        "X = X[features]\n",
        "print(X.columns); print()\n",
        "\n",
        "df = pd.concat([X, y], axis=1)\n",
        "print(df.columns); \n"
      ],
      "execution_count": 130,
      "outputs": [
        {
          "output_type": "stream",
          "text": [
            "Index(['others_cr', 'trend_ichimoku_conv', 'momentum_kama', 'trend_ema_fast', 'volatility_kcc', 'volatility_kch', 'trend_sma_fast',\n",
            "       'trend_ichimoku_a', 'volatility_kcl', 'volume_vwap', 'trend_ema_slow', 'volatility_bbm', 'trend_ichimoku_base', 'volatility_bbh',\n",
            "       'trend_sma_slow', 'trend_psar_down', 'trend_psar_up', 'trend_ichimoku_b', 'volatility_bbl', 'trend_visual_ichimoku_a'],\n",
            "      dtype='object')\n",
            "\n"
          ],
          "name": "stdout"
        },
        {
          "output_type": "display_data",
          "data": {
            "application/javascript": [
              "\n",
              "        if (window._pyforest_update_imports_cell) { window._pyforest_update_imports_cell('import plotly as py\\nimport lightgbm as lgb\\nfrom openpyxl import load_workbook\\nimport plotly.graph_objs as go\\nimport tensorflow as tf\\nimport plotly.express as px\\nimport bokeh\\nimport pydot\\nimport pandas as pd\\nimport altair as alt\\nfrom sklearn.ensemble import RandomForestClassifier\\nfrom sklearn.preprocessing import OneHotEncoder\\nfrom sklearn.ensemble import RandomForestRegressor\\nimport pickle\\nimport tqdm'); }\n",
              "    "
            ],
            "text/plain": [
              "<IPython.core.display.Javascript object>"
            ]
          },
          "metadata": {
            "tags": []
          }
        },
        {
          "output_type": "stream",
          "text": [
            "Index(['others_cr', 'trend_ichimoku_conv', 'momentum_kama', 'trend_ema_fast', 'volatility_kcc', 'volatility_kch', 'trend_sma_fast',\n",
            "       'trend_ichimoku_a', 'volatility_kcl', 'volume_vwap', 'trend_ema_slow', 'volatility_bbm', 'trend_ichimoku_base', 'volatility_bbh',\n",
            "       'trend_sma_slow', 'trend_psar_down', 'trend_psar_up', 'trend_ichimoku_b', 'volatility_bbl', 'trend_visual_ichimoku_a', 'Close'],\n",
            "      dtype='object')\n"
          ],
          "name": "stdout"
        }
      ]
    },
    {
      "cell_type": "code",
      "metadata": {
        "id": "cQjMV9y9qV8-",
        "colab_type": "code",
        "colab": {
          "base_uri": "https://localhost:8080/",
          "height": 638
        },
        "outputId": "a1f00b0d-7faf-4871-db65-6e7f4e0a17fa"
      },
      "source": [
        "label_column = 'Close' # creating label\n",
        "future_prediction = int(15) # prediction for next 15 days\n",
        "print('length =', len(df), \"and future_prediction =\", future_prediction); print()\n",
        "\n",
        "df['label'] = df[label_column].shift(-future_prediction)\n",
        "\n",
        "print(df.head(3)); print()\n",
        "print(df.tail(3));\n",
        "\n"
      ],
      "execution_count": 131,
      "outputs": [
        {
          "output_type": "stream",
          "text": [
            "length = 2173 and future_prediction = 15\n",
            "\n",
            "            others_cr  trend_ichimoku_conv  momentum_kama  trend_ema_fast  volatility_kcc  volatility_kch  trend_sma_fast  trend_ichimoku_a  \\\n",
            "Date                                                                                                                                          \n",
            "2014-09-17   0.000000              460.295     457.330000      457.330000      459.306667      475.056667      457.330000           460.295   \n",
            "2014-09-18  -7.191743              440.635     442.465869      452.270000      445.386667      475.141667      440.885000           440.635   \n",
            "2014-09-19 -13.672840              426.350     420.613111      443.428462      431.053333      465.323333      425.523333           426.350   \n",
            "\n",
            "            volatility_kcl  volume_vwap  trend_ema_slow  volatility_bbm  trend_ichimoku_base  volatility_bbh  trend_sma_slow  trend_psar_down  \\\n",
            "Date                                                                                                                                            \n",
            "2014-09-17      443.556667   459.306667      457.330000      457.330000              460.295      457.330000      457.330000            -1.00   \n",
            "2014-09-18      415.631667   442.021606      454.893704      440.885000              440.635      473.775000      440.885000            -1.00   \n",
            "2014-09-19      396.783333   425.940396      450.442318      425.523333              426.350      476.601846      425.523333           468.17   \n",
            "\n",
            "            trend_psar_up  trend_ichimoku_b  volatility_bbl  trend_visual_ichimoku_a   Close   label  \n",
            "Date                                                                                                  \n",
            "2014-09-17           -1.0           460.295       457.33000              4302.146891  457.33  375.07  \n",
            "2014-09-18           -1.0           440.635       407.99500              4302.146891  424.44  359.51  \n",
            "2014-09-19           -1.0           426.350       374.44482              4302.146891  394.80  328.87  \n",
            "\n",
            "              others_cr  trend_ichimoku_conv  momentum_kama  trend_ema_fast  volatility_kcc  volatility_kch  trend_sma_fast  trend_ichimoku_a  \\\n",
            "Date                                                                                                                                            \n",
            "2020-08-27  2375.980146            11607.430   11538.302692    11599.433274    11666.503667    11969.728667    11722.228333        11646.5850   \n",
            "2020-08-28  2423.888658            11543.175   11538.500694    11590.674309    11603.939333    11891.966333    11693.036667        11614.4575   \n",
            "2020-08-29  2412.341198            11542.600   11537.151465    11575.138261    11572.976333    11836.777333    11629.310833        11614.1700   \n",
            "\n",
            "            volatility_kcl   volume_vwap  trend_ema_slow  volatility_bbm  trend_ichimoku_base  volatility_bbh  trend_sma_slow  trend_psar_down  \\\n",
            "Date                                                                                                                                             \n",
            "2020-08-27    11363.278667  11751.224668    11430.941907      11719.4405             11685.74    12154.256217    11676.023846     12218.060705   \n",
            "2020-08-28    11315.912333  11724.648369    11439.205470      11708.8630             11685.74    12150.042327    11667.674231     12156.133462   \n",
            "2020-08-29    11309.175333  11701.501116    11442.945065      11699.5605             11685.74    12150.870800    11684.446538     12097.921855   \n",
            "\n",
            "            trend_psar_up  trend_ichimoku_b  volatility_bbl  trend_visual_ichimoku_a     Close  label  \n",
            "Date                                                                                                   \n",
            "2020-08-27   11524.474502         10708.860    11284.624783               10342.9575  11323.40    NaN  \n",
            "2020-08-28   11524.474502         10724.005    11267.683673               10539.9900  11542.50    NaN  \n",
            "2020-08-29   11524.474502         10724.005    11248.250200               10671.8600  11489.69    NaN  \n"
          ],
          "name": "stdout"
        }
      ]
    },
    {
      "cell_type": "code",
      "metadata": {
        "id": "LhHKheO0sJY7",
        "colab_type": "code",
        "colab": {
          "base_uri": "https://localhost:8080/",
          "height": 84
        },
        "outputId": "2886352f-a6e3-4e4a-f716-a6a7373c6838"
      },
      "source": [
        "b = df.drop(['label', 'Close'], axis=1)\n",
        "# Define features Matrix X by excluding the label column which we just created \n",
        "X = np.array(b) # dropping label from feature\n",
        "\n",
        "X_future_prediction = X[-future_prediction:]\n",
        "X = X[:-future_prediction]\n",
        "print (\"Length of X_future_prediction:\", len(X_future_prediction), \"& Length of X :\", len(X)); print()\n",
        "\n",
        "# Similarly Define Label vector y for the data we have prediction for\n",
        "y = np.array(df['label'])\n",
        "y = y[:-future_prediction]\n",
        "print('Length of y: ',len(y)); print()"
      ],
      "execution_count": 132,
      "outputs": [
        {
          "output_type": "stream",
          "text": [
            "Length of X_future_prediction: 15 & Length of X : 2158\n",
            "\n",
            "Length of y:  2158\n",
            "\n"
          ],
          "name": "stdout"
        }
      ]
    },
    {
      "cell_type": "markdown",
      "metadata": {
        "id": "2sW5_ll_xzGb",
        "colab_type": "text"
      },
      "source": [
        "Multiple Train-Test Splits\n",
        "We are here repeating the process of splitting the time series into train and test sets multiple times. This will require multiple models to be trained and evaluated, but this additional computational expense will provide a more robust estimate of the expected performance of the chosen method and configuration on unseen data."
      ]
    },
    {
      "cell_type": "code",
      "metadata": {
        "id": "ooPzugVatRjS",
        "colab_type": "code",
        "colab": {
          "base_uri": "https://localhost:8080/",
          "height": 464
        },
        "outputId": "f431e794-e37c-4787-f7c7-7229bd924dff"
      },
      "source": [
        "from sklearn.model_selection import TimeSeriesSplit\n",
        "\n",
        "tscv = TimeSeriesSplit(n_splits=2)\n",
        "plt.figure(figsize=(10,6))\n",
        "index = 1\n",
        "plt.figure(1)\n",
        "index = 1\n",
        "for train_samples, test_samples in tscv.split(X):\n",
        "    X_train, y_train = X[train_samples], y[train_samples]\n",
        "    X_test, y_test = X[test_samples], y[test_samples]\n",
        "    print('Observations: %d' % (len(train) + len(test)))\n",
        "    print('Training Observations: %d' % (len(train)))\n",
        "    print('Testing Observations: %d' % (len(test)))\n",
        "    plt.subplot(310 + index)\n",
        "    plt.plot(y_train)\n",
        "    plt.plot([None for i in y_train] + [x for x in y_test])\n",
        "    index += 1\n",
        "    plt.tight_layout()\n",
        "    plt.title('Line plot of repeated train (blue) and test (orange) splits') \n",
        "\n",
        "plt.show(); print();\n",
        "\n",
        "print('length of X_train and x_test: ', len(X_train), len(X_test)); print()"
      ],
      "execution_count": 133,
      "outputs": [
        {
          "output_type": "stream",
          "text": [
            "Observations: 1073\n",
            "Training Observations: 538\n",
            "Testing Observations: 535\n",
            "Observations: 1073\n",
            "Training Observations: 538\n",
            "Testing Observations: 535\n"
          ],
          "name": "stdout"
        },
        {
          "output_type": "display_data",
          "data": {
            "image/png": "[encoded data removed]",
            "text/plain": [
              "<Figure size 720x432 with 2 Axes>"
            ]
          },
          "metadata": {
            "tags": []
          }
        },
        {
          "output_type": "stream",
          "text": [
            "\n",
            "length of X_train and x_test:  1439 719\n",
            "\n"
          ],
          "name": "stdout"
        }
      ]
    },
    {
      "cell_type": "code",
      "metadata": {
        "id": "woYeMa6JyFy2",
        "colab_type": "code",
        "colab": {
          "base_uri": "https://localhost:8080/",
          "height": 118
        },
        "outputId": "2cec6cc6-98a3-41c1-db71-b619a3e299ee"
      },
      "source": [
        "from sklearn.linear_model import LinearRegression\n",
        "\n",
        "model = LinearRegression().fit(X_train, y_train)\n",
        "\n",
        "from sklearn import metrics\n",
        "print('Accuracy in sample:', round(model.score(X_train, y_train)*100,2).astype(str) + '%')\n",
        "print('Accuracy out of sample:', round(model.score(X_test, y_test)*100,2).astype(str) + '%')\n",
        "\n",
        "RMSE1 = np.sqrt(metrics.mean_squared_error(y_train, model.predict(X_train)));\n",
        "print('RMSE train:', RMSE1); print()\n",
        "\n",
        "RMSE2 = np.sqrt(metrics.mean_squared_error(y_test, model.predict(X_test)));\n",
        "print('RMSE test:', RMSE2); print()\n"
      ],
      "execution_count": 134,
      "outputs": [
        {
          "output_type": "stream",
          "text": [
            "Accuracy in sample: 92.67%\n",
            "Accuracy out of sample: 73.69%\n",
            "RMSE train: 1027.8567317697637\n",
            "\n",
            "RMSE test: 1254.7496203215035\n",
            "\n"
          ],
          "name": "stdout"
        }
      ]
    },
    {
      "cell_type": "code",
      "metadata": {
        "id": "F5wEda8CZwbg",
        "colab_type": "code",
        "colab": {
          "base_uri": "https://localhost:8080/",
          "height": 364
        },
        "outputId": "96f360b6-f315-4ce9-a6ef-7e1d5e6db94c"
      },
      "source": [
        "from yellowbrick.regressor import ResidualsPlot\n",
        "\n",
        "visualizer = ResidualsPlot(model)\n",
        "\n",
        "visualizer.fit(X_train, y_train)  # Fit the training data to the visualizer\n",
        "visualizer.score(X_test,y_test)  # Evaluate the model on the test data"
      ],
      "execution_count": 136,
      "outputs": [
        {
          "output_type": "execute_result",
          "data": {
            "text/plain": [
              "0.7369410584934116"
            ]
          },
          "metadata": {
            "tags": []
          },
          "execution_count": 136
        },
        {
          "output_type": "display_data",
          "data": {
            "image/png": "[encoded data removed]",
            "text/plain": [
              "<Figure size 576x396 with 2 Axes>"
            ]
          },
          "metadata": {
            "tags": []
          }
        }
      ]
    },
    {
      "cell_type": "code",
      "metadata": {
        "id": "mXS6z6GP0bGp",
        "colab_type": "code",
        "colab": {
          "base_uri": "https://localhost:8080/",
          "height": 319
        },
        "outputId": "929dddcf-ef15-41b0-813e-88a45499e049"
      },
      "source": [
        "forecast = pd.DataFrame(model.predict(X_future_prediction)); \n",
        "\n",
        "# assigning names to columns\n",
        "forecast.rename(columns = {0: 'Forecast'}, inplace=True)\n",
        "d = df.tail(15)\n",
        "d.reset_index(inplace=True)\n",
        "d = d.append(pd.DataFrame({'Date': pd.date_range(start = d.Date.iloc[-1], \n",
        "                                             periods = (len(d)+1), freq ='D', closed ='right')}))\n",
        "d.set_index('Date', inplace=True)\n",
        "d = d.tail(15)\n",
        "forecast.index = d.index\n",
        "print('Furure forecast:')\n",
        "print(forecast)\n",
        "\n"
      ],
      "execution_count": 114,
      "outputs": [
        {
          "output_type": "display_data",
          "data": {
            "application/javascript": [
              "\n",
              "        if (window._pyforest_update_imports_cell) { window._pyforest_update_imports_cell('import plotly as py\\nimport lightgbm as lgb\\nfrom openpyxl import load_workbook\\nimport plotly.graph_objs as go\\nimport tensorflow as tf\\nimport plotly.express as px\\nimport bokeh\\nimport pydot\\nimport pandas as pd\\nimport altair as alt\\nfrom sklearn.ensemble import RandomForestClassifier\\nfrom sklearn.preprocessing import OneHotEncoder\\nfrom sklearn.ensemble import RandomForestRegressor\\nimport pickle\\nimport tqdm'); }\n",
              "    "
            ],
            "text/plain": [
              "<IPython.core.display.Javascript object>"
            ]
          },
          "metadata": {
            "tags": []
          }
        },
        {
          "output_type": "display_data",
          "data": {
            "application/javascript": [
              "\n",
              "        if (window._pyforest_update_imports_cell) { window._pyforest_update_imports_cell('import plotly as py\\nimport lightgbm as lgb\\nfrom openpyxl import load_workbook\\nimport plotly.graph_objs as go\\nimport tensorflow as tf\\nimport plotly.express as px\\nimport bokeh\\nimport pydot\\nimport pandas as pd\\nimport altair as alt\\nfrom sklearn.ensemble import RandomForestClassifier\\nfrom sklearn.preprocessing import OneHotEncoder\\nfrom sklearn.ensemble import RandomForestRegressor\\nimport pickle\\nimport tqdm'); }\n",
              "    "
            ],
            "text/plain": [
              "<IPython.core.display.Javascript object>"
            ]
          },
          "metadata": {
            "tags": []
          }
        },
        {
          "output_type": "display_data",
          "data": {
            "application/javascript": [
              "\n",
              "        if (window._pyforest_update_imports_cell) { window._pyforest_update_imports_cell('import plotly as py\\nimport lightgbm as lgb\\nfrom openpyxl import load_workbook\\nimport plotly.graph_objs as go\\nimport tensorflow as tf\\nimport plotly.express as px\\nimport bokeh\\nimport pydot\\nimport pandas as pd\\nimport altair as alt\\nfrom sklearn.ensemble import RandomForestClassifier\\nfrom sklearn.preprocessing import OneHotEncoder\\nfrom sklearn.ensemble import RandomForestRegressor\\nimport pickle\\nimport tqdm'); }\n",
              "    "
            ],
            "text/plain": [
              "<IPython.core.display.Javascript object>"
            ]
          },
          "metadata": {
            "tags": []
          }
        },
        {
          "output_type": "stream",
          "text": [
            "Furure forecast:\n",
            "                Forecast\n",
            "Date                    \n",
            "2020-08-30  12254.719644\n",
            "2020-08-31  12403.082084\n",
            "2020-09-01  12555.701980\n",
            "2020-09-02  12435.293389\n",
            "2020-09-03  12329.456147\n",
            "2020-09-04  12373.053203\n",
            "2020-09-05  12249.631195\n",
            "2020-09-06  11784.229915\n",
            "2020-09-07  11673.039048\n",
            "2020-09-08  11697.430619\n",
            "2020-09-09  11441.820681\n",
            "2020-09-10  11346.332828\n",
            "2020-09-11  11205.960863\n",
            "2020-09-12  11259.547996\n",
            "2020-09-13  11271.918361\n"
          ],
          "name": "stdout"
        }
      ]
    },
    {
      "cell_type": "code",
      "metadata": {
        "id": "d7B9k2Ma1ofb",
        "colab_type": "code",
        "colab": {
          "base_uri": "https://localhost:8080/",
          "height": 417
        },
        "outputId": "44103d15-a9b4-4b51-a13d-ab7a53751144"
      },
      "source": [
        "fig = go.Figure()\n",
        "fig.add_trace(go.Scatter(x=df.index[-50:],y=df.Close[-50:],\n",
        "                         marker=dict(color=\"red\"), name=\"Actual close price\"))\n",
        "\n",
        "fig.add_trace(go.Scatter(x=forecast.index, y=forecast['Forecast'],marker=dict(\n",
        "        color=\"green\"),name=\"Future prediction\"))\n",
        "\n",
        "fig.update_layout(title=\"Future Price Prediction\",yaxis_title=\"Price (USD)\",\n",
        "    font=dict(family=\"Courier New, monospace\",size=18,color=\"#7f7f7f\"))\n",
        "fig.update_layout(autosize=False,width=1000,height=400,)\n",
        "fig.update_layout(legend_orientation=\"v\")\n",
        "fig.show()"
      ],
      "execution_count": 106,
      "outputs": [
        {
          "output_type": "display_data",
          "data": {
            "application/javascript": [
              "\n",
              "        if (window._pyforest_update_imports_cell) { window._pyforest_update_imports_cell('import plotly as py\\nimport lightgbm as lgb\\nfrom openpyxl import load_workbook\\nimport plotly.graph_objs as go\\nimport tensorflow as tf\\nimport plotly.express as px\\nimport bokeh\\nimport pydot\\nimport pandas as pd\\nimport altair as alt\\nfrom sklearn.ensemble import RandomForestClassifier\\nfrom sklearn.preprocessing import OneHotEncoder\\nfrom sklearn.ensemble import RandomForestRegressor\\nimport pickle\\nimport tqdm'); }\n",
              "    "
            ],
            "text/plain": [
              "<IPython.core.display.Javascript object>"
            ]
          },
          "metadata": {
            "tags": []
          }
        },
        {
          "output_type": "display_data",
          "data": {
            "application/javascript": [
              "\n",
              "        if (window._pyforest_update_imports_cell) { window._pyforest_update_imports_cell('import plotly as py\\nimport lightgbm as lgb\\nfrom openpyxl import load_workbook\\nimport plotly.graph_objs as go\\nimport tensorflow as tf\\nimport plotly.express as px\\nimport bokeh\\nimport pydot\\nimport pandas as pd\\nimport altair as alt\\nfrom sklearn.ensemble import RandomForestClassifier\\nfrom sklearn.preprocessing import OneHotEncoder\\nfrom sklearn.ensemble import RandomForestRegressor\\nimport pickle\\nimport tqdm'); }\n",
              "    "
            ],
            "text/plain": [
              "<IPython.core.display.Javascript object>"
            ]
          },
          "metadata": {
            "tags": []
          }
        },
        {
          "output_type": "display_data",
          "data": {
            "application/javascript": [
              "\n",
              "        if (window._pyforest_update_imports_cell) { window._pyforest_update_imports_cell('import plotly as py\\nimport lightgbm as lgb\\nfrom openpyxl import load_workbook\\nimport plotly.graph_objs as go\\nimport tensorflow as tf\\nimport plotly.express as px\\nimport bokeh\\nimport pydot\\nimport pandas as pd\\nimport altair as alt\\nfrom sklearn.ensemble import RandomForestClassifier\\nfrom sklearn.preprocessing import OneHotEncoder\\nfrom sklearn.ensemble import RandomForestRegressor\\nimport pickle\\nimport tqdm'); }\n",
              "    "
            ],
            "text/plain": [
              "<IPython.core.display.Javascript object>"
            ]
          },
          "metadata": {
            "tags": []
          }
        },
        {
          "output_type": "display_data",
          "data": {
            "text/html": [
              "<html>\n",
              "<head><meta charset=\"utf-8\" /></head>\n",
              "<body>\n",
              "    <div>\n",
              "            <script src=\"https://cdnjs.cloudflare.com/ajax/libs/mathjax/2.7.5/MathJax.js?config=TeX-AMS-MML_SVG\"></script><script type=\"text/javascript\">if (window.MathJax) {MathJax.Hub.Config({SVG: {font: \"STIX-Web\"}});}</script>\n",
              "                <script type=\"text/javascript\">window.PlotlyConfig = {MathJaxConfig: 'local'};</script>\n",
              "        <script src=\"https://cdn.plot.ly/plotly-latest.min.js\"></script>    \n",
              "            <div id=\"8af5f887-8db0-42e6-b4db-5c967ef612ce\" class=\"plotly-graph-div\" style=\"height:400px; width:1000px;\"></div>\n",
              "            <script type=\"text/javascript\">\n",
              "                \n",
              "                    window.PLOTLYENV=window.PLOTLYENV || {};\n",
              "                    \n",
              "                if (document.getElementById(\"8af5f887-8db0-42e6-b4db-5c967ef612ce\")) {\n",
              "                    Plotly.newPlot(\n",
              "                        '8af5f887-8db0-42e6-b4db-5c967ef612ce',\n",
              "                        [{\"marker\": {\"color\": \"red\"}, \"name\": \"Actual close price\", \"type\": \"scatter\", \"x\": [\"2020-07-10T00:00:00\", \"2020-07-11T00:00:00\", \"2020-07-12T00:00:00\", \"2020-07-13T00:00:00\", \"2020-07-14T00:00:00\", \"2020-07-15T00:00:00\", \"2020-07-16T00:00:00\", \"2020-07-17T00:00:00\", \"2020-07-18T00:00:00\", \"2020-07-19T00:00:00\", \"2020-07-20T00:00:00\", \"2020-07-21T00:00:00\", \"2020-07-22T00:00:00\", \"2020-07-23T00:00:00\", \"2020-07-24T00:00:00\", \"2020-07-25T00:00:00\", \"2020-07-26T00:00:00\", \"2020-07-27T00:00:00\", \"2020-07-28T00:00:00\", \"2020-07-29T00:00:00\", \"2020-07-30T00:00:00\", \"2020-07-31T00:00:00\", \"2020-08-01T00:00:00\", \"2020-08-02T00:00:00\", \"2020-08-03T00:00:00\", \"2020-08-05T00:00:00\", \"2020-08-06T00:00:00\", \"2020-08-07T00:00:00\", \"2020-08-08T00:00:00\", \"2020-08-09T00:00:00\", \"2020-08-10T00:00:00\", \"2020-08-11T00:00:00\", \"2020-08-12T00:00:00\", \"2020-08-13T00:00:00\", \"2020-08-14T00:00:00\", \"2020-08-15T00:00:00\", \"2020-08-16T00:00:00\", \"2020-08-17T00:00:00\", \"2020-08-18T00:00:00\", \"2020-08-19T00:00:00\", \"2020-08-20T00:00:00\", \"2020-08-21T00:00:00\", \"2020-08-22T00:00:00\", \"2020-08-23T00:00:00\", \"2020-08-24T00:00:00\", \"2020-08-25T00:00:00\", \"2020-08-26T00:00:00\", \"2020-08-27T00:00:00\", \"2020-08-28T00:00:00\", \"2020-08-29T00:00:00\"], \"y\": [9278.81, 9240.35, 9276.5, 9243.61, 9243.21, 9192.84, 9132.23, 9151.39, 9159.04, 9185.82, 9164.23, 9374.89, 9525.36, 9581.07, 9536.89, 9677.11, 9905.17, 10990.87, 10912.82, 11100.47, 11111.21, 11323.47, 11759.59, 11053.61, 11246.35, 11747.02, 11779.77, 11601.47, 11754.05, 11675.74, 11878.11, 11410.53, 11584.93, 11784.14, 11768.87, 11865.7, 11892.8, 12254.4, 11991.23, 11758.28, 11878.37, 11592.49, 11681.83, 11664.85, 11774.6, 11366.13, 11488.36, 11323.4, 11542.5, 11563.66]}, {\"marker\": {\"color\": \"green\"}, \"name\": \"Future prediction\", \"type\": \"scatter\", \"x\": [\"2020-08-30T00:00:00\", \"2020-08-31T00:00:00\", \"2020-09-01T00:00:00\", \"2020-09-02T00:00:00\", \"2020-09-03T00:00:00\", \"2020-09-04T00:00:00\", \"2020-09-05T00:00:00\", \"2020-09-06T00:00:00\", \"2020-09-07T00:00:00\", \"2020-09-08T00:00:00\", \"2020-09-09T00:00:00\", \"2020-09-10T00:00:00\", \"2020-09-11T00:00:00\", \"2020-09-12T00:00:00\", \"2020-09-13T00:00:00\"], \"y\": [12254.719644254486, 12403.08208380823, 12555.701980326861, 12435.2933889802, 12329.456147477533, 12373.053203444995, 12249.631194763222, 11784.229915226657, 11673.039048218741, 11697.430618853043, 11441.820680606223, 11346.332828038936, 11205.960862540136, 11259.547995823945, 11271.918360556541]}],\n",
              "                        {\"autosize\": false, \"font\": {\"color\": \"#7f7f7f\", \"family\": \"Courier New, monospace\", \"size\": 18}, \"height\": 400, \"legend\": {\"orientation\": \"v\"}, \"template\": {\"data\": {\"bar\": [{\"error_x\": {\"color\": \"#2a3f5f\"}, \"error_y\": {\"color\": \"#2a3f5f\"}, \"marker\": {\"line\": {\"color\": \"#E5ECF6\", \"width\": 0.5}}, \"type\": \"bar\"}], \"barpolar\": [{\"marker\": {\"line\": {\"color\": \"#E5ECF6\", \"width\": 0.5}}, \"type\": \"barpolar\"}], \"carpet\": [{\"aaxis\": {\"endlinecolor\": \"#2a3f5f\", \"gridcolor\": \"white\", \"linecolor\": \"white\", \"minorgridcolor\": \"white\", \"startlinecolor\": \"#2a3f5f\"}, \"baxis\": {\"endlinecolor\": \"#2a3f5f\", \"gridcolor\": \"white\", \"linecolor\": \"white\", \"minorgridcolor\": \"white\", \"startlinecolor\": \"#2a3f5f\"}, \"type\": \"carpet\"}], \"choropleth\": [{\"colorbar\": {\"outlinewidth\": 0, \"ticks\": \"\"}, \"type\": \"choropleth\"}], \"contour\": [{\"colorbar\": {\"outlinewidth\": 0, \"ticks\": \"\"}, \"colorscale\": [[0.0, \"#0d0887\"], [0.1111111111111111, \"#46039f\"], [0.2222222222222222, \"#7201a8\"], [0.3333333333333333, \"#9c179e\"], [0.4444444444444444, \"#bd3786\"], [0.5555555555555556, \"#d8576b\"], [0.6666666666666666, \"#ed7953\"], [0.7777777777777778, \"#fb9f3a\"], [0.8888888888888888, \"#fdca26\"], [1.0, \"#f0f921\"]], \"type\": \"contour\"}], \"contourcarpet\": [{\"colorbar\": {\"outlinewidth\": 0, \"ticks\": \"\"}, \"type\": \"contourcarpet\"}], \"heatmap\": [{\"colorbar\": {\"outlinewidth\": 0, \"ticks\": \"\"}, \"colorscale\": [[0.0, \"#0d0887\"], [0.1111111111111111, \"#46039f\"], [0.2222222222222222, \"#7201a8\"], [0.3333333333333333, \"#9c179e\"], [0.4444444444444444, \"#bd3786\"], [0.5555555555555556, \"#d8576b\"], [0.6666666666666666, \"#ed7953\"], [0.7777777777777778, \"#fb9f3a\"], [0.8888888888888888, \"#fdca26\"], [1.0, \"#f0f921\"]], \"type\": \"heatmap\"}], \"heatmapgl\": [{\"colorbar\": {\"outlinewidth\": 0, \"ticks\": \"\"}, \"colorscale\": [[0.0, \"#0d0887\"], [0.1111111111111111, \"#46039f\"], [0.2222222222222222, \"#7201a8\"], [0.3333333333333333, \"#9c179e\"], [0.4444444444444444, \"#bd3786\"], [0.5555555555555556, \"#d8576b\"], [0.6666666666666666, \"#ed7953\"], [0.7777777777777778, \"#fb9f3a\"], [0.8888888888888888, \"#fdca26\"], [1.0, \"#f0f921\"]], \"type\": \"heatmapgl\"}], \"histogram\": [{\"marker\": {\"colorbar\": {\"outlinewidth\": 0, \"ticks\": \"\"}}, \"type\": \"histogram\"}], \"histogram2d\": [{\"colorbar\": {\"outlinewidth\": 0, \"ticks\": \"\"}, \"colorscale\": [[0.0, \"#0d0887\"], [0.1111111111111111, \"#46039f\"], [0.2222222222222222, \"#7201a8\"], [0.3333333333333333, \"#9c179e\"], [0.4444444444444444, \"#bd3786\"], [0.5555555555555556, \"#d8576b\"], [0.6666666666666666, \"#ed7953\"], [0.7777777777777778, \"#fb9f3a\"], [0.8888888888888888, \"#fdca26\"], [1.0, \"#f0f921\"]], \"type\": \"histogram2d\"}], \"histogram2dcontour\": [{\"colorbar\": {\"outlinewidth\": 0, \"ticks\": \"\"}, \"colorscale\": [[0.0, \"#0d0887\"], [0.1111111111111111, \"#46039f\"], [0.2222222222222222, \"#7201a8\"], [0.3333333333333333, \"#9c179e\"], [0.4444444444444444, \"#bd3786\"], [0.5555555555555556, \"#d8576b\"], [0.6666666666666666, \"#ed7953\"], [0.7777777777777778, \"#fb9f3a\"], [0.8888888888888888, \"#fdca26\"], [1.0, \"#f0f921\"]], \"type\": \"histogram2dcontour\"}], \"mesh3d\": [{\"colorbar\": {\"outlinewidth\": 0, \"ticks\": \"\"}, \"type\": \"mesh3d\"}], \"parcoords\": [{\"line\": {\"colorbar\": {\"outlinewidth\": 0, \"ticks\": \"\"}}, \"type\": \"parcoords\"}], \"pie\": [{\"automargin\": true, \"type\": \"pie\"}], \"scatter\": [{\"marker\": {\"colorbar\": {\"outlinewidth\": 0, \"ticks\": \"\"}}, \"type\": \"scatter\"}], \"scatter3d\": [{\"line\": {\"colorbar\": {\"outlinewidth\": 0, \"ticks\": \"\"}}, \"marker\": {\"colorbar\": {\"outlinewidth\": 0, \"ticks\": \"\"}}, \"type\": \"scatter3d\"}], \"scattercarpet\": [{\"marker\": {\"colorbar\": {\"outlinewidth\": 0, \"ticks\": \"\"}}, \"type\": \"scattercarpet\"}], \"scattergeo\": [{\"marker\": {\"colorbar\": {\"outlinewidth\": 0, \"ticks\": \"\"}}, \"type\": \"scattergeo\"}], \"scattergl\": [{\"marker\": {\"colorbar\": {\"outlinewidth\": 0, \"ticks\": \"\"}}, \"type\": \"scattergl\"}], \"scattermapbox\": [{\"marker\": {\"colorbar\": {\"outlinewidth\": 0, \"ticks\": \"\"}}, \"type\": \"scattermapbox\"}], \"scatterpolar\": [{\"marker\": {\"colorbar\": {\"outlinewidth\": 0, \"ticks\": \"\"}}, \"type\": \"scatterpolar\"}], \"scatterpolargl\": [{\"marker\": {\"colorbar\": {\"outlinewidth\": 0, \"ticks\": \"\"}}, \"type\": \"scatterpolargl\"}], \"scatterternary\": [{\"marker\": {\"colorbar\": {\"outlinewidth\": 0, \"ticks\": \"\"}}, \"type\": \"scatterternary\"}], \"surface\": [{\"colorbar\": {\"outlinewidth\": 0, \"ticks\": \"\"}, \"colorscale\": [[0.0, \"#0d0887\"], [0.1111111111111111, \"#46039f\"], [0.2222222222222222, \"#7201a8\"], [0.3333333333333333, \"#9c179e\"], [0.4444444444444444, \"#bd3786\"], [0.5555555555555556, \"#d8576b\"], [0.6666666666666666, \"#ed7953\"], [0.7777777777777778, \"#fb9f3a\"], [0.8888888888888888, \"#fdca26\"], [1.0, \"#f0f921\"]], \"type\": \"surface\"}], \"table\": [{\"cells\": {\"fill\": {\"color\": \"#EBF0F8\"}, \"line\": {\"color\": \"white\"}}, \"header\": {\"fill\": {\"color\": \"#C8D4E3\"}, \"line\": {\"color\": \"white\"}}, \"type\": \"table\"}]}, \"layout\": {\"annotationdefaults\": {\"arrowcolor\": \"#2a3f5f\", \"arrowhead\": 0, \"arrowwidth\": 1}, \"coloraxis\": {\"colorbar\": {\"outlinewidth\": 0, \"ticks\": \"\"}}, \"colorscale\": {\"diverging\": [[0, \"#8e0152\"], [0.1, \"#c51b7d\"], [0.2, \"#de77ae\"], [0.3, \"#f1b6da\"], [0.4, \"#fde0ef\"], [0.5, \"#f7f7f7\"], [0.6, \"#e6f5d0\"], [0.7, \"#b8e186\"], [0.8, \"#7fbc41\"], [0.9, \"#4d9221\"], [1, \"#276419\"]], \"sequential\": [[0.0, \"#0d0887\"], [0.1111111111111111, \"#46039f\"], [0.2222222222222222, \"#7201a8\"], [0.3333333333333333, \"#9c179e\"], [0.4444444444444444, \"#bd3786\"], [0.5555555555555556, \"#d8576b\"], [0.6666666666666666, \"#ed7953\"], [0.7777777777777778, \"#fb9f3a\"], [0.8888888888888888, \"#fdca26\"], [1.0, \"#f0f921\"]], \"sequentialminus\": [[0.0, \"#0d0887\"], [0.1111111111111111, \"#46039f\"], [0.2222222222222222, \"#7201a8\"], [0.3333333333333333, \"#9c179e\"], [0.4444444444444444, \"#bd3786\"], [0.5555555555555556, \"#d8576b\"], [0.6666666666666666, \"#ed7953\"], [0.7777777777777778, \"#fb9f3a\"], [0.8888888888888888, \"#fdca26\"], [1.0, \"#f0f921\"]]}, \"colorway\": [\"#636efa\", \"#EF553B\", \"#00cc96\", \"#ab63fa\", \"#FFA15A\", \"#19d3f3\", \"#FF6692\", \"#B6E880\", \"#FF97FF\", \"#FECB52\"], \"font\": {\"color\": \"#2a3f5f\"}, \"geo\": {\"bgcolor\": \"white\", \"lakecolor\": \"white\", \"landcolor\": \"#E5ECF6\", \"showlakes\": true, \"showland\": true, \"subunitcolor\": \"white\"}, \"hoverlabel\": {\"align\": \"left\"}, \"hovermode\": \"closest\", \"mapbox\": {\"style\": \"light\"}, \"paper_bgcolor\": \"white\", \"plot_bgcolor\": \"#E5ECF6\", \"polar\": {\"angularaxis\": {\"gridcolor\": \"white\", \"linecolor\": \"white\", \"ticks\": \"\"}, \"bgcolor\": \"#E5ECF6\", \"radialaxis\": {\"gridcolor\": \"white\", \"linecolor\": \"white\", \"ticks\": \"\"}}, \"scene\": {\"xaxis\": {\"backgroundcolor\": \"#E5ECF6\", \"gridcolor\": \"white\", \"gridwidth\": 2, \"linecolor\": \"white\", \"showbackground\": true, \"ticks\": \"\", \"zerolinecolor\": \"white\"}, \"yaxis\": {\"backgroundcolor\": \"#E5ECF6\", \"gridcolor\": \"white\", \"gridwidth\": 2, \"linecolor\": \"white\", \"showbackground\": true, \"ticks\": \"\", \"zerolinecolor\": \"white\"}, \"zaxis\": {\"backgroundcolor\": \"#E5ECF6\", \"gridcolor\": \"white\", \"gridwidth\": 2, \"linecolor\": \"white\", \"showbackground\": true, \"ticks\": \"\", \"zerolinecolor\": \"white\"}}, \"shapedefaults\": {\"line\": {\"color\": \"#2a3f5f\"}}, \"ternary\": {\"aaxis\": {\"gridcolor\": \"white\", \"linecolor\": \"white\", \"ticks\": \"\"}, \"baxis\": {\"gridcolor\": \"white\", \"linecolor\": \"white\", \"ticks\": \"\"}, \"bgcolor\": \"#E5ECF6\", \"caxis\": {\"gridcolor\": \"white\", \"linecolor\": \"white\", \"ticks\": \"\"}}, \"title\": {\"x\": 0.05}, \"xaxis\": {\"automargin\": true, \"gridcolor\": \"white\", \"linecolor\": \"white\", \"ticks\": \"\", \"title\": {\"standoff\": 15}, \"zerolinecolor\": \"white\", \"zerolinewidth\": 2}, \"yaxis\": {\"automargin\": true, \"gridcolor\": \"white\", \"linecolor\": \"white\", \"ticks\": \"\", \"title\": {\"standoff\": 15}, \"zerolinecolor\": \"white\", \"zerolinewidth\": 2}}}, \"title\": {\"text\": \"Future Price Prediction\"}, \"width\": 1000, \"yaxis\": {\"title\": {\"text\": \"Price (USD)\"}}},\n",
              "                        {\"responsive\": true}\n",
              "                    ).then(function(){\n",
              "                            \n",
              "var gd = document.getElementById('8af5f887-8db0-42e6-b4db-5c967ef612ce');\n",
              "var x = new MutationObserver(function (mutations, observer) {{\n",
              "        var display = window.getComputedStyle(gd).display;\n",
              "        if (!display || display === 'none') {{\n",
              "            console.log([gd, 'removed!']);\n",
              "            Plotly.purge(gd);\n",
              "            observer.disconnect();\n",
              "        }}\n",
              "}});\n",
              "\n",
              "// Listen for the removal of the full notebook cells\n",
              "var notebookContainer = gd.closest('#notebook-container');\n",
              "if (notebookContainer) {{\n",
              "    x.observe(notebookContainer, {childList: true});\n",
              "}}\n",
              "\n",
              "// Listen for the clearing of the current output cell\n",
              "var outputEl = gd.closest('.output');\n",
              "if (outputEl) {{\n",
              "    x.observe(outputEl, {childList: true});\n",
              "}}\n",
              "\n",
              "                        })\n",
              "                };\n",
              "                \n",
              "            </script>\n",
              "        </div>\n",
              "</body>\n",
              "</html>"
            ]
          },
          "metadata": {
            "tags": []
          }
        }
      ]
    }
  ]
}