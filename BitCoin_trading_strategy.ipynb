{
  "nbformat": 4,
  "nbformat_minor": 0,
  "metadata": {
    "colab": {
      "name": "BitCoin_trading_strategy.ipynb",
      "provenance": [],
      "authorship_tag": "ABX9TyMFJTLZDroJF1PyTzREe81S",
      "include_colab_link": true
    },
    "kernelspec": {
      "name": "python3",
      "display_name": "Python 3"
    }
  },
  "cells": [
    {
      "cell_type": "markdown",
      "metadata": {
        "id": "view-in-github",
        "colab_type": "text"
      },
      "source": [
        "<a href=\"https://colab.research.google.com/github/saritmaitra/crypto_prediction/blob/master/BitCoin_trading_strategy.ipynb\" target=\"_parent\"><img src=\"https://colab.research.google.com/assets/colab-badge.svg\" alt=\"Open In Colab\"/></a>"
      ]
    },
    {
      "cell_type": "code",
      "metadata": {
        "id": "6a7x7a1vOxoe"
      },
      "source": [
        "!pip install pyforest\r\n",
        "from pyforest import *\r\n",
        "from matplotlib import pyplot as plt\r\n",
        "import seaborn as sns\r\n",
        "from sklearn.ensemble import ExtraTreesRegressor\r\n",
        "from sklearn.preprocessing import LabelEncoder, StandardScaler\r\n",
        "from sklearn.model_selection import train_test_split\r\n",
        "import numpy as np\r\n",
        "import sklearn.metrics\r\n",
        "from pylab import rcParams\r\n",
        "%matplotlib inline\r\n",
        "pd.set_option('display.max_columns', 500)\r\n",
        "pd.set_option('display.max_rows', 500)\r\n",
        "from google.colab import files\r\n",
        "\r\n",
        "plt.style.use('ggplot')\r\n",
        "from sklearn.preprocessing import MinMaxScaler\r\n",
        "from keras.models import Sequential\r\n",
        "from keras.layers import Dense, LSTM, Dropout, GRU, Bidirectional\r\n",
        "from keras.optimizers import SGD\r\n",
        "import math\r\n",
        "from sklearn.metrics import mean_squared_error\r\n",
        "import pandas_datareader as web\r\n",
        "import warnings\r\n",
        "warnings.filterwarnings(\"ignore\")\r\n",
        "pd.set_option('display.max_rows', 500)\r\n",
        "pd.set_option('display.max_columns', 500)\r\n",
        "pd.set_option('display.width', 150)\r\n",
        "!pip install yfinance"
      ],
      "execution_count": null,
      "outputs": []
    },
    {
      "cell_type": "code",
      "metadata": {
        "colab": {
          "base_uri": "https://localhost:8080/"
        },
        "id": "eYqbHDTqO8vA",
        "outputId": "7553d5e5-24d3-49d9-aac2-ae13eeab9213"
      },
      "source": [
        "import yfinance as yf\r\n",
        "\r\n",
        "btc = yf.Ticker(\"BTC-USD\")\r\n",
        "# get historical market data\r\n",
        "hist = btc.history(period=\"max\")\r\n",
        "df = hist[['Open', 'High', 'Low', 'Close', 'Volume']]\r\n",
        "print(df.tail()); print(); print(df.shape)"
      ],
      "execution_count": 104,
      "outputs": [
        {
          "output_type": "stream",
          "text": [
            "                    Open          High           Low         Close       Volume\n",
            "Date                                                                           \n",
            "2020-12-30  27360.089844  28937.740234  27360.089844  28840.953125  51287442704\n",
            "2020-12-31  28841.574219  29244.876953  28201.992188  29001.720703  46754964848\n",
            "2021-01-01  28994.009766  29600.626953  28803.585938  29374.152344  40730301359\n",
            "2021-01-02  29376.455078  33155.117188  29091.181641  32127.267578  67865420765\n",
            "2021-01-03  32512.191406  32804.953125  32055.917969  32599.750000  70564462592\n",
            "\n",
            "(2301, 5)\n"
          ],
          "name": "stdout"
        }
      ]
    },
    {
      "cell_type": "code",
      "metadata": {
        "colab": {
          "base_uri": "https://localhost:8080/",
          "height": 225
        },
        "id": "iRR7setQPBxf",
        "outputId": "c049faf9-09e4-465d-9d77-82205b0aaecc"
      },
      "source": [
        "df = df.sort_index(ascending=True)\r\n",
        "df.head()"
      ],
      "execution_count": 105,
      "outputs": [
        {
          "output_type": "execute_result",
          "data": {
            "text/html": [
              "<div>\n",
              "<style scoped>\n",
              "    .dataframe tbody tr th:only-of-type {\n",
              "        vertical-align: middle;\n",
              "    }\n",
              "\n",
              "    .dataframe tbody tr th {\n",
              "        vertical-align: top;\n",
              "    }\n",
              "\n",
              "    .dataframe thead th {\n",
              "        text-align: right;\n",
              "    }\n",
              "</style>\n",
              "<table border=\"1\" class=\"dataframe\">\n",
              "  <thead>\n",
              "    <tr style=\"text-align: right;\">\n",
              "      <th></th>\n",
              "      <th>Open</th>\n",
              "      <th>High</th>\n",
              "      <th>Low</th>\n",
              "      <th>Close</th>\n",
              "      <th>Volume</th>\n",
              "    </tr>\n",
              "    <tr>\n",
              "      <th>Date</th>\n",
              "      <th></th>\n",
              "      <th></th>\n",
              "      <th></th>\n",
              "      <th></th>\n",
              "      <th></th>\n",
              "    </tr>\n",
              "  </thead>\n",
              "  <tbody>\n",
              "    <tr>\n",
              "      <th>2014-09-17</th>\n",
              "      <td>465.864014</td>\n",
              "      <td>468.174011</td>\n",
              "      <td>452.421997</td>\n",
              "      <td>457.334015</td>\n",
              "      <td>21056800</td>\n",
              "    </tr>\n",
              "    <tr>\n",
              "      <th>2014-09-18</th>\n",
              "      <td>456.859985</td>\n",
              "      <td>456.859985</td>\n",
              "      <td>413.104004</td>\n",
              "      <td>424.440002</td>\n",
              "      <td>34483200</td>\n",
              "    </tr>\n",
              "    <tr>\n",
              "      <th>2014-09-19</th>\n",
              "      <td>424.102997</td>\n",
              "      <td>427.834991</td>\n",
              "      <td>384.532013</td>\n",
              "      <td>394.795990</td>\n",
              "      <td>37919700</td>\n",
              "    </tr>\n",
              "    <tr>\n",
              "      <th>2014-09-20</th>\n",
              "      <td>394.673004</td>\n",
              "      <td>423.295990</td>\n",
              "      <td>389.882996</td>\n",
              "      <td>408.903992</td>\n",
              "      <td>36863600</td>\n",
              "    </tr>\n",
              "    <tr>\n",
              "      <th>2014-09-21</th>\n",
              "      <td>408.084991</td>\n",
              "      <td>412.425995</td>\n",
              "      <td>393.181000</td>\n",
              "      <td>398.821014</td>\n",
              "      <td>26580100</td>\n",
              "    </tr>\n",
              "  </tbody>\n",
              "</table>\n",
              "</div>"
            ],
            "text/plain": [
              "                  Open        High         Low       Close    Volume\n",
              "Date                                                                \n",
              "2014-09-17  465.864014  468.174011  452.421997  457.334015  21056800\n",
              "2014-09-18  456.859985  456.859985  413.104004  424.440002  34483200\n",
              "2014-09-19  424.102997  427.834991  384.532013  394.795990  37919700\n",
              "2014-09-20  394.673004  423.295990  389.882996  408.903992  36863600\n",
              "2014-09-21  408.084991  412.425995  393.181000  398.821014  26580100"
            ]
          },
          "metadata": {
            "tags": []
          },
          "execution_count": 105
        }
      ]
    },
    {
      "cell_type": "code",
      "metadata": {
        "colab": {
          "base_uri": "https://localhost:8080/",
          "height": 284
        },
        "id": "Y73olttzPHGv",
        "outputId": "4eea5d34-c647-43a8-dfd2-cae444b40de0"
      },
      "source": [
        "df.describe()"
      ],
      "execution_count": 106,
      "outputs": [
        {
          "output_type": "execute_result",
          "data": {
            "text/html": [
              "<div>\n",
              "<style scoped>\n",
              "    .dataframe tbody tr th:only-of-type {\n",
              "        vertical-align: middle;\n",
              "    }\n",
              "\n",
              "    .dataframe tbody tr th {\n",
              "        vertical-align: top;\n",
              "    }\n",
              "\n",
              "    .dataframe thead th {\n",
              "        text-align: right;\n",
              "    }\n",
              "</style>\n",
              "<table border=\"1\" class=\"dataframe\">\n",
              "  <thead>\n",
              "    <tr style=\"text-align: right;\">\n",
              "      <th></th>\n",
              "      <th>Open</th>\n",
              "      <th>High</th>\n",
              "      <th>Low</th>\n",
              "      <th>Close</th>\n",
              "      <th>Volume</th>\n",
              "    </tr>\n",
              "  </thead>\n",
              "  <tbody>\n",
              "    <tr>\n",
              "      <th>count</th>\n",
              "      <td>2301.000000</td>\n",
              "      <td>2301.000000</td>\n",
              "      <td>2301.000000</td>\n",
              "      <td>2301.000000</td>\n",
              "      <td>2.301000e+03</td>\n",
              "    </tr>\n",
              "    <tr>\n",
              "      <th>mean</th>\n",
              "      <td>4955.485377</td>\n",
              "      <td>5082.795371</td>\n",
              "      <td>4828.372949</td>\n",
              "      <td>4969.238903</td>\n",
              "      <td>9.165414e+09</td>\n",
              "    </tr>\n",
              "    <tr>\n",
              "      <th>std</th>\n",
              "      <td>4891.694368</td>\n",
              "      <td>5041.204896</td>\n",
              "      <td>4754.439367</td>\n",
              "      <td>4923.809551</td>\n",
              "      <td>1.292546e+10</td>\n",
              "    </tr>\n",
              "    <tr>\n",
              "      <th>min</th>\n",
              "      <td>176.897003</td>\n",
              "      <td>211.731003</td>\n",
              "      <td>171.509995</td>\n",
              "      <td>178.102997</td>\n",
              "      <td>5.914570e+06</td>\n",
              "    </tr>\n",
              "    <tr>\n",
              "      <th>25%</th>\n",
              "      <td>445.860992</td>\n",
              "      <td>450.661987</td>\n",
              "      <td>440.351013</td>\n",
              "      <td>445.737000</td>\n",
              "      <td>6.299300e+07</td>\n",
              "    </tr>\n",
              "    <tr>\n",
              "      <th>50%</th>\n",
              "      <td>3897.081055</td>\n",
              "      <td>3966.174316</td>\n",
              "      <td>3826.513184</td>\n",
              "      <td>3901.131592</td>\n",
              "      <td>3.226250e+09</td>\n",
              "    </tr>\n",
              "    <tr>\n",
              "      <th>75%</th>\n",
              "      <td>8419.870117</td>\n",
              "      <td>8653.280273</td>\n",
              "      <td>8204.185547</td>\n",
              "      <td>8441.490234</td>\n",
              "      <td>1.562702e+10</td>\n",
              "    </tr>\n",
              "    <tr>\n",
              "      <th>max</th>\n",
              "      <td>32512.191406</td>\n",
              "      <td>33155.117188</td>\n",
              "      <td>32055.917969</td>\n",
              "      <td>32599.750000</td>\n",
              "      <td>7.415677e+10</td>\n",
              "    </tr>\n",
              "  </tbody>\n",
              "</table>\n",
              "</div>"
            ],
            "text/plain": [
              "               Open          High           Low         Close        Volume\n",
              "count   2301.000000   2301.000000   2301.000000   2301.000000  2.301000e+03\n",
              "mean    4955.485377   5082.795371   4828.372949   4969.238903  9.165414e+09\n",
              "std     4891.694368   5041.204896   4754.439367   4923.809551  1.292546e+10\n",
              "min      176.897003    211.731003    171.509995    178.102997  5.914570e+06\n",
              "25%      445.860992    450.661987    440.351013    445.737000  6.299300e+07\n",
              "50%     3897.081055   3966.174316   3826.513184   3901.131592  3.226250e+09\n",
              "75%     8419.870117   8653.280273   8204.185547   8441.490234  1.562702e+10\n",
              "max    32512.191406  33155.117188  32055.917969  32599.750000  7.415677e+10"
            ]
          },
          "metadata": {
            "tags": []
          },
          "execution_count": 106
        }
      ]
    },
    {
      "cell_type": "code",
      "metadata": {
        "colab": {
          "base_uri": "https://localhost:8080/",
          "height": 320
        },
        "id": "qnxO6c04PJrf",
        "outputId": "41dc5461-432f-4c99-e4c9-50cb9b717b53"
      },
      "source": [
        "df['Close'].hist(bins=30, figsize=(10,5)).axvline(df['Close'].mean(), \r\n",
        "                                                 color='b', linestyle='dashed', linewidth=2)\r\n",
        "plt.show()"
      ],
      "execution_count": 107,
      "outputs": [
        {
          "output_type": "display_data",
          "data": {
            "image/png": "[encoded data removed]",
            "text/plain": [
              "<Figure size 720x360 with 1 Axes>"
            ]
          },
          "metadata": {
            "tags": []
          }
        }
      ]
    },
    {
      "cell_type": "code",
      "metadata": {
        "colab": {
          "base_uri": "https://localhost:8080/",
          "height": 542
        },
        "id": "wd1TQW92PMy3",
        "outputId": "1ef19657-67c5-478d-d6e3-dc2b1d8c0dc1"
      },
      "source": [
        "fig = go.Figure(data=[go.Candlestick(x=df.index[-30:],\r\n",
        "                                     open=df['Open'][-30:],\r\n",
        "                                     high=df['High'][-30:],\r\n",
        "                                     low=df['Low'][-30:],\r\n",
        "                                     close=df['Close'][-30:])])\r\n",
        "fig.update_xaxes(showline=True, linewidth=2, linecolor='black', mirror=True)\r\n",
        "fig.update_yaxes(showline=True, linewidth=2, linecolor='black', mirror=True)\r\n",
        "fig.update_layout(title='Last 30 days BTC price', yaxis_title='BTC (US$)')\r\n",
        "fig.show()"
      ],
      "execution_count": 108,
      "outputs": [
        {
          "output_type": "display_data",
          "data": {
            "application/javascript": [
              "\n",
              "        if (window._pyforest_update_imports_cell) { window._pyforest_update_imports_cell('import bokeh\\nimport altair as alt\\nfrom sklearn.manifold import TSNE\\nimport tensorflow as tf\\nimport pickle\\nimport tqdm\\nfrom sklearn import svm\\nimport lightgbm as lgb\\nfrom sklearn.feature_extraction.text import TfidfVectorizer\\nimport sys\\nimport plotly.graph_objs as go\\nimport plotly as py\\nimport pandas as pd\\nfrom openpyxl import load_workbook\\nimport spacy\\nimport statistics\\nimport plotly.express as px\\nimport nltk\\nimport pydot'); }\n",
              "    "
            ],
            "text/plain": [
              "<IPython.core.display.Javascript object>"
            ]
          },
          "metadata": {
            "tags": []
          }
        },
        {
          "output_type": "display_data",
          "data": {
            "application/javascript": [
              "\n",
              "        if (window._pyforest_update_imports_cell) { window._pyforest_update_imports_cell('import bokeh\\nimport altair as alt\\nfrom sklearn.manifold import TSNE\\nimport tensorflow as tf\\nimport pickle\\nimport tqdm\\nfrom sklearn import svm\\nimport lightgbm as lgb\\nfrom sklearn.feature_extraction.text import TfidfVectorizer\\nimport sys\\nimport plotly.graph_objs as go\\nimport plotly as py\\nimport pandas as pd\\nfrom openpyxl import load_workbook\\nimport spacy\\nimport statistics\\nimport plotly.express as px\\nimport nltk\\nimport pydot'); }\n",
              "    "
            ],
            "text/plain": [
              "<IPython.core.display.Javascript object>"
            ]
          },
          "metadata": {
            "tags": []
          }
        },
        {
          "output_type": "display_data",
          "data": {
            "text/html": [
              "<html>\n",
              "<head><meta charset=\"utf-8\" /></head>\n",
              "<body>\n",
              "    <div>\n",
              "            <script src=\"https://cdnjs.cloudflare.com/ajax/libs/mathjax/2.7.5/MathJax.js?config=TeX-AMS-MML_SVG\"></script><script type=\"text/javascript\">if (window.MathJax) {MathJax.Hub.Config({SVG: {font: \"STIX-Web\"}});}</script>\n",
              "                <script type=\"text/javascript\">window.PlotlyConfig = {MathJaxConfig: 'local'};</script>\n",
              "        <script src=\"https://cdn.plot.ly/plotly-latest.min.js\"></script>    \n",
              "            <div id=\"3957f669-52da-4a9c-9883-0c476581027f\" class=\"plotly-graph-div\" style=\"height:525px; width:100%;\"></div>\n",
              "            <script type=\"text/javascript\">\n",
              "                \n",
              "                    window.PLOTLYENV=window.PLOTLYENV || {};\n",
              "                    \n",
              "                if (document.getElementById(\"3957f669-52da-4a9c-9883-0c476581027f\")) {\n",
              "                    Plotly.newPlot(\n",
              "                        '3957f669-52da-4a9c-9883-0c476581027f',\n",
              "                        [{\"close\": [19154.23046875, 19345.12109375, 19191.630859375, 18321.14453125, 18553.916015625, 18264.9921875, 18058.904296875, 18803.65625, 19142.3828125, 19246.64453125, 19417.076171875, 21310.59765625, 22805.162109375, 23137.9609375, 23869.83203125, 23477.294921875, 22803.08203125, 23783.029296875, 23241.345703125, 23735.94921875, 24664.791015625, 26437.037109375, 26272.294921875, 27084.80859375, 27362.4375, 28840.953125, 29001.720703125, 29374.15234375, 32127.267578125, 32599.75], \"high\": [19160.44921875, 19390.5, 19411.828125, 19283.478515625, 18626.29296875, 18553.298828125, 18268.453125, 18919.55078125, 19381.53515625, 19305.099609375, 19525.0078125, 21458.908203125, 23642.66015625, 23238.6015625, 24085.85546875, 24209.66015625, 24059.982421875, 23789.90234375, 24024.490234375, 23768.337890625, 24710.1015625, 26718.0703125, 28288.83984375, 27389.111328125, 27370.720703125, 28937.740234375, 29244.876953125, 29600.626953125, 33155.1171875, 32804.953125], \"low\": [18590.193359375, 18897.89453125, 18931.142578125, 18269.9453125, 17935.546875, 17957.064453125, 17619.533203125, 18046.041015625, 18734.33203125, 19012.708984375, 19079.841796875, 19298.31640625, 21234.67578125, 22399.8125, 22826.47265625, 23147.7109375, 22159.3671875, 22430.60546875, 22802.646484375, 22777.59765625, 23463.673828125, 24522.689453125, 25922.76953125, 26207.640625, 25987.298828125, 27360.08984375, 28201.9921875, 28803.5859375, 29091.181640625, 32055.91796875], \"open\": [18698.384765625, 19154.1796875, 19343.12890625, 19191.529296875, 18320.884765625, 18553.298828125, 18263.9296875, 18051.3203125, 18806.765625, 19144.4921875, 19246.919921875, 19418.818359375, 21308.3515625, 22806.796875, 23132.865234375, 23861.765625, 23474.455078125, 22794.0390625, 23781.974609375, 23240.203125, 23733.5703125, 24677.015625, 26439.373046875, 26280.822265625, 27081.810546875, 27360.08984375, 28841.57421875, 28994.009765625, 29376.455078125, 32512.19140625], \"type\": \"candlestick\", \"x\": [\"2020-12-05T00:00:00\", \"2020-12-06T00:00:00\", \"2020-12-07T00:00:00\", \"2020-12-08T00:00:00\", \"2020-12-09T00:00:00\", \"2020-12-10T00:00:00\", \"2020-12-11T00:00:00\", \"2020-12-12T00:00:00\", \"2020-12-13T00:00:00\", \"2020-12-14T00:00:00\", \"2020-12-15T00:00:00\", \"2020-12-16T00:00:00\", \"2020-12-17T00:00:00\", \"2020-12-18T00:00:00\", \"2020-12-19T00:00:00\", \"2020-12-20T00:00:00\", \"2020-12-21T00:00:00\", \"2020-12-22T00:00:00\", \"2020-12-23T00:00:00\", \"2020-12-24T00:00:00\", \"2020-12-25T00:00:00\", \"2020-12-26T00:00:00\", \"2020-12-27T00:00:00\", \"2020-12-28T00:00:00\", \"2020-12-29T00:00:00\", \"2020-12-30T00:00:00\", \"2020-12-31T00:00:00\", \"2021-01-01T00:00:00\", \"2021-01-02T00:00:00\", \"2021-01-03T00:00:00\"]}],\n",
              "                        {\"template\": {\"data\": {\"bar\": [{\"error_x\": {\"color\": \"#2a3f5f\"}, \"error_y\": {\"color\": \"#2a3f5f\"}, \"marker\": {\"line\": {\"color\": \"#E5ECF6\", \"width\": 0.5}}, \"type\": \"bar\"}], \"barpolar\": [{\"marker\": {\"line\": {\"color\": \"#E5ECF6\", \"width\": 0.5}}, \"type\": \"barpolar\"}], \"carpet\": [{\"aaxis\": {\"endlinecolor\": \"#2a3f5f\", \"gridcolor\": \"white\", \"linecolor\": \"white\", \"minorgridcolor\": \"white\", \"startlinecolor\": \"#2a3f5f\"}, \"baxis\": {\"endlinecolor\": \"#2a3f5f\", \"gridcolor\": \"white\", \"linecolor\": \"white\", \"minorgridcolor\": \"white\", \"startlinecolor\": \"#2a3f5f\"}, \"type\": \"carpet\"}], \"choropleth\": [{\"colorbar\": {\"outlinewidth\": 0, \"ticks\": \"\"}, \"type\": \"choropleth\"}], \"contour\": [{\"colorbar\": {\"outlinewidth\": 0, \"ticks\": \"\"}, \"colorscale\": [[0.0, \"#0d0887\"], [0.1111111111111111, \"#46039f\"], [0.2222222222222222, \"#7201a8\"], [0.3333333333333333, \"#9c179e\"], [0.4444444444444444, \"#bd3786\"], [0.5555555555555556, \"#d8576b\"], [0.6666666666666666, \"#ed7953\"], [0.7777777777777778, \"#fb9f3a\"], [0.8888888888888888, \"#fdca26\"], [1.0, \"#f0f921\"]], \"type\": \"contour\"}], \"contourcarpet\": [{\"colorbar\": {\"outlinewidth\": 0, \"ticks\": \"\"}, \"type\": \"contourcarpet\"}], \"heatmap\": [{\"colorbar\": {\"outlinewidth\": 0, \"ticks\": \"\"}, \"colorscale\": [[0.0, \"#0d0887\"], [0.1111111111111111, \"#46039f\"], [0.2222222222222222, \"#7201a8\"], [0.3333333333333333, \"#9c179e\"], [0.4444444444444444, \"#bd3786\"], [0.5555555555555556, \"#d8576b\"], [0.6666666666666666, \"#ed7953\"], [0.7777777777777778, \"#fb9f3a\"], [0.8888888888888888, \"#fdca26\"], [1.0, \"#f0f921\"]], \"type\": \"heatmap\"}], \"heatmapgl\": [{\"colorbar\": {\"outlinewidth\": 0, \"ticks\": \"\"}, \"colorscale\": [[0.0, \"#0d0887\"], [0.1111111111111111, \"#46039f\"], [0.2222222222222222, \"#7201a8\"], [0.3333333333333333, \"#9c179e\"], [0.4444444444444444, \"#bd3786\"], [0.5555555555555556, \"#d8576b\"], [0.6666666666666666, \"#ed7953\"], [0.7777777777777778, \"#fb9f3a\"], [0.8888888888888888, \"#fdca26\"], [1.0, \"#f0f921\"]], \"type\": \"heatmapgl\"}], \"histogram\": [{\"marker\": {\"colorbar\": {\"outlinewidth\": 0, \"ticks\": \"\"}}, \"type\": \"histogram\"}], \"histogram2d\": [{\"colorbar\": {\"outlinewidth\": 0, \"ticks\": \"\"}, \"colorscale\": [[0.0, \"#0d0887\"], [0.1111111111111111, \"#46039f\"], [0.2222222222222222, \"#7201a8\"], [0.3333333333333333, \"#9c179e\"], [0.4444444444444444, \"#bd3786\"], [0.5555555555555556, \"#d8576b\"], [0.6666666666666666, \"#ed7953\"], [0.7777777777777778, \"#fb9f3a\"], [0.8888888888888888, \"#fdca26\"], [1.0, \"#f0f921\"]], \"type\": \"histogram2d\"}], \"histogram2dcontour\": [{\"colorbar\": {\"outlinewidth\": 0, \"ticks\": \"\"}, \"colorscale\": [[0.0, \"#0d0887\"], [0.1111111111111111, \"#46039f\"], [0.2222222222222222, \"#7201a8\"], [0.3333333333333333, \"#9c179e\"], [0.4444444444444444, \"#bd3786\"], [0.5555555555555556, \"#d8576b\"], [0.6666666666666666, \"#ed7953\"], [0.7777777777777778, \"#fb9f3a\"], [0.8888888888888888, \"#fdca26\"], [1.0, \"#f0f921\"]], \"type\": \"histogram2dcontour\"}], \"mesh3d\": [{\"colorbar\": {\"outlinewidth\": 0, \"ticks\": \"\"}, \"type\": \"mesh3d\"}], \"parcoords\": [{\"line\": {\"colorbar\": {\"outlinewidth\": 0, \"ticks\": \"\"}}, \"type\": \"parcoords\"}], \"pie\": [{\"automargin\": true, \"type\": \"pie\"}], \"scatter\": [{\"marker\": {\"colorbar\": {\"outlinewidth\": 0, \"ticks\": \"\"}}, \"type\": \"scatter\"}], \"scatter3d\": [{\"line\": {\"colorbar\": {\"outlinewidth\": 0, \"ticks\": \"\"}}, \"marker\": {\"colorbar\": {\"outlinewidth\": 0, \"ticks\": \"\"}}, \"type\": \"scatter3d\"}], \"scattercarpet\": [{\"marker\": {\"colorbar\": {\"outlinewidth\": 0, \"ticks\": \"\"}}, \"type\": \"scattercarpet\"}], \"scattergeo\": [{\"marker\": {\"colorbar\": {\"outlinewidth\": 0, \"ticks\": \"\"}}, \"type\": \"scattergeo\"}], \"scattergl\": [{\"marker\": {\"colorbar\": {\"outlinewidth\": 0, \"ticks\": \"\"}}, \"type\": \"scattergl\"}], \"scattermapbox\": [{\"marker\": {\"colorbar\": {\"outlinewidth\": 0, \"ticks\": \"\"}}, \"type\": \"scattermapbox\"}], \"scatterpolar\": [{\"marker\": {\"colorbar\": {\"outlinewidth\": 0, \"ticks\": \"\"}}, \"type\": \"scatterpolar\"}], \"scatterpolargl\": [{\"marker\": {\"colorbar\": {\"outlinewidth\": 0, \"ticks\": \"\"}}, \"type\": \"scatterpolargl\"}], \"scatterternary\": [{\"marker\": {\"colorbar\": {\"outlinewidth\": 0, \"ticks\": \"\"}}, \"type\": \"scatterternary\"}], \"surface\": [{\"colorbar\": {\"outlinewidth\": 0, \"ticks\": \"\"}, \"colorscale\": [[0.0, \"#0d0887\"], [0.1111111111111111, \"#46039f\"], [0.2222222222222222, \"#7201a8\"], [0.3333333333333333, \"#9c179e\"], [0.4444444444444444, \"#bd3786\"], [0.5555555555555556, \"#d8576b\"], [0.6666666666666666, \"#ed7953\"], [0.7777777777777778, \"#fb9f3a\"], [0.8888888888888888, \"#fdca26\"], [1.0, \"#f0f921\"]], \"type\": \"surface\"}], \"table\": [{\"cells\": {\"fill\": {\"color\": \"#EBF0F8\"}, \"line\": {\"color\": \"white\"}}, \"header\": {\"fill\": {\"color\": \"#C8D4E3\"}, \"line\": {\"color\": \"white\"}}, \"type\": \"table\"}]}, \"layout\": {\"annotationdefaults\": {\"arrowcolor\": \"#2a3f5f\", \"arrowhead\": 0, \"arrowwidth\": 1}, \"coloraxis\": {\"colorbar\": {\"outlinewidth\": 0, \"ticks\": \"\"}}, \"colorscale\": {\"diverging\": [[0, \"#8e0152\"], [0.1, \"#c51b7d\"], [0.2, \"#de77ae\"], [0.3, \"#f1b6da\"], [0.4, \"#fde0ef\"], [0.5, \"#f7f7f7\"], [0.6, \"#e6f5d0\"], [0.7, \"#b8e186\"], [0.8, \"#7fbc41\"], [0.9, \"#4d9221\"], [1, \"#276419\"]], \"sequential\": [[0.0, \"#0d0887\"], [0.1111111111111111, \"#46039f\"], [0.2222222222222222, \"#7201a8\"], [0.3333333333333333, \"#9c179e\"], [0.4444444444444444, \"#bd3786\"], [0.5555555555555556, \"#d8576b\"], [0.6666666666666666, \"#ed7953\"], [0.7777777777777778, \"#fb9f3a\"], [0.8888888888888888, \"#fdca26\"], [1.0, \"#f0f921\"]], \"sequentialminus\": [[0.0, \"#0d0887\"], [0.1111111111111111, \"#46039f\"], [0.2222222222222222, \"#7201a8\"], [0.3333333333333333, \"#9c179e\"], [0.4444444444444444, \"#bd3786\"], [0.5555555555555556, \"#d8576b\"], [0.6666666666666666, \"#ed7953\"], [0.7777777777777778, \"#fb9f3a\"], [0.8888888888888888, \"#fdca26\"], [1.0, \"#f0f921\"]]}, \"colorway\": [\"#636efa\", \"#EF553B\", \"#00cc96\", \"#ab63fa\", \"#FFA15A\", \"#19d3f3\", \"#FF6692\", \"#B6E880\", \"#FF97FF\", \"#FECB52\"], \"font\": {\"color\": \"#2a3f5f\"}, \"geo\": {\"bgcolor\": \"white\", \"lakecolor\": \"white\", \"landcolor\": \"#E5ECF6\", \"showlakes\": true, \"showland\": true, \"subunitcolor\": \"white\"}, \"hoverlabel\": {\"align\": \"left\"}, \"hovermode\": \"closest\", \"mapbox\": {\"style\": \"light\"}, \"paper_bgcolor\": \"white\", \"plot_bgcolor\": \"#E5ECF6\", \"polar\": {\"angularaxis\": {\"gridcolor\": \"white\", \"linecolor\": \"white\", \"ticks\": \"\"}, \"bgcolor\": \"#E5ECF6\", \"radialaxis\": {\"gridcolor\": \"white\", \"linecolor\": \"white\", \"ticks\": \"\"}}, \"scene\": {\"xaxis\": {\"backgroundcolor\": \"#E5ECF6\", \"gridcolor\": \"white\", \"gridwidth\": 2, \"linecolor\": \"white\", \"showbackground\": true, \"ticks\": \"\", \"zerolinecolor\": \"white\"}, \"yaxis\": {\"backgroundcolor\": \"#E5ECF6\", \"gridcolor\": \"white\", \"gridwidth\": 2, \"linecolor\": \"white\", \"showbackground\": true, \"ticks\": \"\", \"zerolinecolor\": \"white\"}, \"zaxis\": {\"backgroundcolor\": \"#E5ECF6\", \"gridcolor\": \"white\", \"gridwidth\": 2, \"linecolor\": \"white\", \"showbackground\": true, \"ticks\": \"\", \"zerolinecolor\": \"white\"}}, \"shapedefaults\": {\"line\": {\"color\": \"#2a3f5f\"}}, \"ternary\": {\"aaxis\": {\"gridcolor\": \"white\", \"linecolor\": \"white\", \"ticks\": \"\"}, \"baxis\": {\"gridcolor\": \"white\", \"linecolor\": \"white\", \"ticks\": \"\"}, \"bgcolor\": \"#E5ECF6\", \"caxis\": {\"gridcolor\": \"white\", \"linecolor\": \"white\", \"ticks\": \"\"}}, \"title\": {\"x\": 0.05}, \"xaxis\": {\"automargin\": true, \"gridcolor\": \"white\", \"linecolor\": \"white\", \"ticks\": \"\", \"title\": {\"standoff\": 15}, \"zerolinecolor\": \"white\", \"zerolinewidth\": 2}, \"yaxis\": {\"automargin\": true, \"gridcolor\": \"white\", \"linecolor\": \"white\", \"ticks\": \"\", \"title\": {\"standoff\": 15}, \"zerolinecolor\": \"white\", \"zerolinewidth\": 2}}}, \"title\": {\"text\": \"Last 30 days BTC price\"}, \"xaxis\": {\"linecolor\": \"black\", \"linewidth\": 2, \"mirror\": true, \"showline\": true}, \"yaxis\": {\"linecolor\": \"black\", \"linewidth\": 2, \"mirror\": true, \"showline\": true, \"title\": {\"text\": \"BTC (US$)\"}}},\n",
              "                        {\"responsive\": true}\n",
              "                    ).then(function(){\n",
              "                            \n",
              "var gd = document.getElementById('3957f669-52da-4a9c-9883-0c476581027f');\n",
              "var x = new MutationObserver(function (mutations, observer) {{\n",
              "        var display = window.getComputedStyle(gd).display;\n",
              "        if (!display || display === 'none') {{\n",
              "            console.log([gd, 'removed!']);\n",
              "            Plotly.purge(gd);\n",
              "            observer.disconnect();\n",
              "        }}\n",
              "}});\n",
              "\n",
              "// Listen for the removal of the full notebook cells\n",
              "var notebookContainer = gd.closest('#notebook-container');\n",
              "if (notebookContainer) {{\n",
              "    x.observe(notebookContainer, {childList: true});\n",
              "}}\n",
              "\n",
              "// Listen for the clearing of the current output cell\n",
              "var outputEl = gd.closest('.output');\n",
              "if (outputEl) {{\n",
              "    x.observe(outputEl, {childList: true});\n",
              "}}\n",
              "\n",
              "                        })\n",
              "                };\n",
              "                \n",
              "            </script>\n",
              "        </div>\n",
              "</body>\n",
              "</html>"
            ]
          },
          "metadata": {
            "tags": []
          }
        }
      ]
    },
    {
      "cell_type": "code",
      "metadata": {
        "colab": {
          "base_uri": "https://localhost:8080/",
          "height": 225
        },
        "id": "gleq6LSPPVkZ",
        "outputId": "72524faa-783e-41bf-cca2-af0a3db6cb20"
      },
      "source": [
        "btc = df[['Close']]\r\n",
        "btc['daily_difference'] = btc['Close'].diff()\r\n",
        "btc.head()"
      ],
      "execution_count": 109,
      "outputs": [
        {
          "output_type": "execute_result",
          "data": {
            "text/html": [
              "<div>\n",
              "<style scoped>\n",
              "    .dataframe tbody tr th:only-of-type {\n",
              "        vertical-align: middle;\n",
              "    }\n",
              "\n",
              "    .dataframe tbody tr th {\n",
              "        vertical-align: top;\n",
              "    }\n",
              "\n",
              "    .dataframe thead th {\n",
              "        text-align: right;\n",
              "    }\n",
              "</style>\n",
              "<table border=\"1\" class=\"dataframe\">\n",
              "  <thead>\n",
              "    <tr style=\"text-align: right;\">\n",
              "      <th></th>\n",
              "      <th>Close</th>\n",
              "      <th>daily_difference</th>\n",
              "    </tr>\n",
              "    <tr>\n",
              "      <th>Date</th>\n",
              "      <th></th>\n",
              "      <th></th>\n",
              "    </tr>\n",
              "  </thead>\n",
              "  <tbody>\n",
              "    <tr>\n",
              "      <th>2014-09-17</th>\n",
              "      <td>457.334015</td>\n",
              "      <td>NaN</td>\n",
              "    </tr>\n",
              "    <tr>\n",
              "      <th>2014-09-18</th>\n",
              "      <td>424.440002</td>\n",
              "      <td>-32.894012</td>\n",
              "    </tr>\n",
              "    <tr>\n",
              "      <th>2014-09-19</th>\n",
              "      <td>394.795990</td>\n",
              "      <td>-29.644012</td>\n",
              "    </tr>\n",
              "    <tr>\n",
              "      <th>2014-09-20</th>\n",
              "      <td>408.903992</td>\n",
              "      <td>14.108002</td>\n",
              "    </tr>\n",
              "    <tr>\n",
              "      <th>2014-09-21</th>\n",
              "      <td>398.821014</td>\n",
              "      <td>-10.082977</td>\n",
              "    </tr>\n",
              "  </tbody>\n",
              "</table>\n",
              "</div>"
            ],
            "text/plain": [
              "                 Close  daily_difference\n",
              "Date                                    \n",
              "2014-09-17  457.334015               NaN\n",
              "2014-09-18  424.440002        -32.894012\n",
              "2014-09-19  394.795990        -29.644012\n",
              "2014-09-20  408.903992         14.108002\n",
              "2014-09-21  398.821014        -10.082977"
            ]
          },
          "metadata": {
            "tags": []
          },
          "execution_count": 109
        }
      ]
    },
    {
      "cell_type": "code",
      "metadata": {
        "colab": {
          "base_uri": "https://localhost:8080/",
          "height": 225
        },
        "id": "GH1x2Ls-PyHo",
        "outputId": "090dd763-2a95-4cf9-8a06-3356b401a9d9"
      },
      "source": [
        "btc['signal'] = 0.0\r\n",
        "btc['signal'] = np.where(btc['daily_difference'] > 0, 1.0, 0.0)\r\n",
        "btc.head()"
      ],
      "execution_count": 110,
      "outputs": [
        {
          "output_type": "execute_result",
          "data": {
            "text/html": [
              "<div>\n",
              "<style scoped>\n",
              "    .dataframe tbody tr th:only-of-type {\n",
              "        vertical-align: middle;\n",
              "    }\n",
              "\n",
              "    .dataframe tbody tr th {\n",
              "        vertical-align: top;\n",
              "    }\n",
              "\n",
              "    .dataframe thead th {\n",
              "        text-align: right;\n",
              "    }\n",
              "</style>\n",
              "<table border=\"1\" class=\"dataframe\">\n",
              "  <thead>\n",
              "    <tr style=\"text-align: right;\">\n",
              "      <th></th>\n",
              "      <th>Close</th>\n",
              "      <th>daily_difference</th>\n",
              "      <th>signal</th>\n",
              "    </tr>\n",
              "    <tr>\n",
              "      <th>Date</th>\n",
              "      <th></th>\n",
              "      <th></th>\n",
              "      <th></th>\n",
              "    </tr>\n",
              "  </thead>\n",
              "  <tbody>\n",
              "    <tr>\n",
              "      <th>2014-09-17</th>\n",
              "      <td>457.334015</td>\n",
              "      <td>NaN</td>\n",
              "      <td>0.0</td>\n",
              "    </tr>\n",
              "    <tr>\n",
              "      <th>2014-09-18</th>\n",
              "      <td>424.440002</td>\n",
              "      <td>-32.894012</td>\n",
              "      <td>0.0</td>\n",
              "    </tr>\n",
              "    <tr>\n",
              "      <th>2014-09-19</th>\n",
              "      <td>394.795990</td>\n",
              "      <td>-29.644012</td>\n",
              "      <td>0.0</td>\n",
              "    </tr>\n",
              "    <tr>\n",
              "      <th>2014-09-20</th>\n",
              "      <td>408.903992</td>\n",
              "      <td>14.108002</td>\n",
              "      <td>1.0</td>\n",
              "    </tr>\n",
              "    <tr>\n",
              "      <th>2014-09-21</th>\n",
              "      <td>398.821014</td>\n",
              "      <td>-10.082977</td>\n",
              "      <td>0.0</td>\n",
              "    </tr>\n",
              "  </tbody>\n",
              "</table>\n",
              "</div>"
            ],
            "text/plain": [
              "                 Close  daily_difference  signal\n",
              "Date                                            \n",
              "2014-09-17  457.334015               NaN     0.0\n",
              "2014-09-18  424.440002        -32.894012     0.0\n",
              "2014-09-19  394.795990        -29.644012     0.0\n",
              "2014-09-20  408.903992         14.108002     1.0\n",
              "2014-09-21  398.821014        -10.082977     0.0"
            ]
          },
          "metadata": {
            "tags": []
          },
          "execution_count": 110
        }
      ]
    },
    {
      "cell_type": "code",
      "metadata": {
        "colab": {
          "base_uri": "https://localhost:8080/",
          "height": 225
        },
        "id": "pdANP1KHQFDQ",
        "outputId": "eba7e2a2-33a6-414b-fffc-65e749e13c57"
      },
      "source": [
        "btc['positions'] = btc['signal'].diff()\r\n",
        "btc.head()"
      ],
      "execution_count": 111,
      "outputs": [
        {
          "output_type": "execute_result",
          "data": {
            "text/html": [
              "<div>\n",
              "<style scoped>\n",
              "    .dataframe tbody tr th:only-of-type {\n",
              "        vertical-align: middle;\n",
              "    }\n",
              "\n",
              "    .dataframe tbody tr th {\n",
              "        vertical-align: top;\n",
              "    }\n",
              "\n",
              "    .dataframe thead th {\n",
              "        text-align: right;\n",
              "    }\n",
              "</style>\n",
              "<table border=\"1\" class=\"dataframe\">\n",
              "  <thead>\n",
              "    <tr style=\"text-align: right;\">\n",
              "      <th></th>\n",
              "      <th>Close</th>\n",
              "      <th>daily_difference</th>\n",
              "      <th>signal</th>\n",
              "      <th>positions</th>\n",
              "    </tr>\n",
              "    <tr>\n",
              "      <th>Date</th>\n",
              "      <th></th>\n",
              "      <th></th>\n",
              "      <th></th>\n",
              "      <th></th>\n",
              "    </tr>\n",
              "  </thead>\n",
              "  <tbody>\n",
              "    <tr>\n",
              "      <th>2014-09-17</th>\n",
              "      <td>457.334015</td>\n",
              "      <td>NaN</td>\n",
              "      <td>0.0</td>\n",
              "      <td>NaN</td>\n",
              "    </tr>\n",
              "    <tr>\n",
              "      <th>2014-09-18</th>\n",
              "      <td>424.440002</td>\n",
              "      <td>-32.894012</td>\n",
              "      <td>0.0</td>\n",
              "      <td>0.0</td>\n",
              "    </tr>\n",
              "    <tr>\n",
              "      <th>2014-09-19</th>\n",
              "      <td>394.795990</td>\n",
              "      <td>-29.644012</td>\n",
              "      <td>0.0</td>\n",
              "      <td>0.0</td>\n",
              "    </tr>\n",
              "    <tr>\n",
              "      <th>2014-09-20</th>\n",
              "      <td>408.903992</td>\n",
              "      <td>14.108002</td>\n",
              "      <td>1.0</td>\n",
              "      <td>1.0</td>\n",
              "    </tr>\n",
              "    <tr>\n",
              "      <th>2014-09-21</th>\n",
              "      <td>398.821014</td>\n",
              "      <td>-10.082977</td>\n",
              "      <td>0.0</td>\n",
              "      <td>-1.0</td>\n",
              "    </tr>\n",
              "  </tbody>\n",
              "</table>\n",
              "</div>"
            ],
            "text/plain": [
              "                 Close  daily_difference  signal  positions\n",
              "Date                                                       \n",
              "2014-09-17  457.334015               NaN     0.0        NaN\n",
              "2014-09-18  424.440002        -32.894012     0.0        0.0\n",
              "2014-09-19  394.795990        -29.644012     0.0        0.0\n",
              "2014-09-20  408.903992         14.108002     1.0        1.0\n",
              "2014-09-21  398.821014        -10.082977     0.0       -1.0"
            ]
          },
          "metadata": {
            "tags": []
          },
          "execution_count": 111
        }
      ]
    },
    {
      "cell_type": "code",
      "metadata": {
        "colab": {
          "base_uri": "https://localhost:8080/"
        },
        "id": "5YZjLOEtm10E",
        "outputId": "c066c0cf-a1e9-4193-afbb-e96a2ece7d13"
      },
      "source": [
        "btc.positions.value_counts()"
      ],
      "execution_count": 146,
      "outputs": [
        {
          "output_type": "execute_result",
          "data": {
            "text/plain": [
              " 0.0    1107\n",
              " 1.0     597\n",
              "-1.0     596\n",
              "Name: positions, dtype: int64"
            ]
          },
          "metadata": {
            "tags": []
          },
          "execution_count": 146
        }
      ]
    },
    {
      "cell_type": "code",
      "metadata": {
        "colab": {
          "base_uri": "https://localhost:8080/",
          "height": 371
        },
        "id": "3uCc9QseT5VL",
        "outputId": "4d51fc8d-6d53-40cb-da30-0f9e5c3338e5"
      },
      "source": [
        "# For each day where open price > 0, we set the signal 1 means sell  and < 0, we set signal 0, to buy \r\n",
        "\r\n",
        "print('\\033[4mFor each day where Close price = Buy = red arrow head  and Sell = green arrow head \\033[0m')\r\n",
        "buys = btc.loc[btc['positions'] == 1]\r\n",
        "sells = btc.loc[btc['positions'] == -1]\r\n",
        "\r\n",
        "# Plot \r\n",
        "fig = plt.figure(figsize=(15, 5))\r\n",
        "plt.plot(btc.index, btc['Close'], color = 'gray', lw=2., label='Close price')\r\n",
        "\r\n",
        "# Plot the buy and sell signals on the same plot\r\n",
        "plt.plot(buys.index, btc.loc[buys.index]['Close'], '^', markersize=3, color='r',\r\n",
        "          label='Buy')\r\n",
        "plt.plot(sells.index, btc.loc[sells.index]['Close'], 'v', markersize=3, \r\n",
        "         color='g', label='Sell')\r\n",
        "plt.ylabel('BTC Price (USD)')\r\n",
        "plt.xlabel('Date')\r\n",
        "plt.title('Buy and sell signals plot')\r\n",
        "plt.legend(loc=0)\r\n",
        "\r\n",
        "# Display everything\r\n",
        "plt.show()"
      ],
      "execution_count": 145,
      "outputs": [
        {
          "output_type": "stream",
          "text": [
            "\u001b[4mFor each day where Close price = Buy = red arrow head  and Sell = green arrow head \u001b[0m\n"
          ],
          "name": "stdout"
        },
        {
          "output_type": "display_data",
          "data": {
            "image/png": "[encoded data removed]",
            "text/plain": [
              "<Figure size 1080x360 with 1 Axes>"
            ]
          },
          "metadata": {
            "tags": []
          }
        }
      ]
    },
    {
      "cell_type": "code",
      "metadata": {
        "colab": {
          "base_uri": "https://localhost:8080/"
        },
        "id": "EyR9emhbR9ni",
        "outputId": "c8493628-5672-44fe-d2d0-90e8fe154ed9"
      },
      "source": [
        "# Initialize the short and long windows\r\n",
        "short_window = 10\r\n",
        "long_window = 30\r\n",
        "\r\n",
        "# Initialize the `signals` DataFrame with the `signal` column\r\n",
        "trade = btc[['Close']]\r\n",
        "trade['signal'] = 0.0\r\n",
        "\r\n",
        "# Create short simple moving average over the short window\r\n",
        "trade['short_ma'] = btc['Close'].rolling(window=short_window).mean()\r\n",
        "\r\n",
        "# Create long simple moving average over the long window\r\n",
        "trade['long_ma'] = btc['Close'].rolling(window=long_window).mean()\r\n",
        "# Create signals\r\n",
        "trade['signal'][short_window:] = np.where(trade['short_ma'][short_window:] < trade['long_ma'][short_window:], 1.0, 0.0)   \r\n",
        "\r\n",
        "# Generate trading orders\r\n",
        "trade['positions'] = trade['signal'].diff()\r\n",
        "\r\n",
        "# Print `signals`\r\n",
        "print(trade.tail())"
      ],
      "execution_count": 113,
      "outputs": [
        {
          "output_type": "stream",
          "text": [
            "                   Close  signal      short_ma       long_ma  positions\n",
            "Date                                                                   \n",
            "2020-12-30  28840.953125     0.0  25422.572852  21749.184310        0.0\n",
            "2020-12-31  29001.720703     0.0  26042.436719  22089.141732        0.0\n",
            "2021-01-01  29374.152344     0.0  26601.549023  22428.243750        0.0\n",
            "2021-01-02  32127.267578     0.0  27490.141211  22850.972721        0.0\n",
            "2021-01-03  32599.750000     0.0  28376.521289  23314.305534        0.0\n"
          ],
          "name": "stdout"
        }
      ]
    },
    {
      "cell_type": "code",
      "metadata": {
        "colab": {
          "base_uri": "https://localhost:8080/"
        },
        "id": "9uNY_90HC77-",
        "outputId": "be9e12db-1308-4b3f-9de6-01cb1410ec0a"
      },
      "source": [
        "#.dropna(inplace=True)\r\n",
        "trade.positions.value_counts()"
      ],
      "execution_count": 114,
      "outputs": [
        {
          "output_type": "execute_result",
          "data": {
            "text/plain": [
              " 0.0    2224\n",
              "-1.0      38\n",
              " 1.0      38\n",
              "Name: positions, dtype: int64"
            ]
          },
          "metadata": {
            "tags": []
          },
          "execution_count": 114
        }
      ]
    },
    {
      "cell_type": "code",
      "metadata": {
        "colab": {
          "base_uri": "https://localhost:8080/",
          "height": 354
        },
        "id": "rMLKOw05NNsN",
        "outputId": "f3ab952d-9bd1-434a-9b58-50ad8beb9eb7"
      },
      "source": [
        "plt.style.use('dark_background')\r\n",
        "buys = trade.loc[trade['positions'] == 1]\r\n",
        "sells = trade.loc[trade['positions'] == -1]\r\n",
        "\r\n",
        "# Plot \r\n",
        "fig = plt.figure(figsize=(15, 5))\r\n",
        "plt.plot(trade.index, trade['Close'], color='g', lw=.5, label='Close price')\r\n",
        "# Plot the short and long moving averages\r\n",
        "plt.plot(trade[['short_ma', 'long_ma']])\r\n",
        "plt.plot(buys.index, trade.loc[buys.index]['Close'],\r\n",
        "         '^', markersize=7, color='red', label='Buy')\r\n",
        "plt.plot(sells.index, trade.loc[sells.index]['Close'],\r\n",
        "         'v', markersize=7, color='blue', label = 'Sell')\r\n",
        "plt.ylabel('BTC Price (USD)')\r\n",
        "plt.xlabel('Date')\r\n",
        "plt.legend([\"Price\",\"Short mavg\",\"Long mavg\",\"Buy\",\"Sell\"])\r\n",
        "plt.title(\"Dual SMA Strategy\")\r\n",
        "\r\n",
        "# Display everything\r\n",
        "plt.show()"
      ],
      "execution_count": 142,
      "outputs": [
        {
          "output_type": "display_data",
          "data": {
            "image/png": "[encoded data removed]",
            "text/plain": [
              "<Figure size 1080x360 with 1 Axes>"
            ]
          },
          "metadata": {
            "tags": []
          }
        }
      ]
    },
    {
      "cell_type": "code",
      "metadata": {
        "id": "S8N6KhUySYOD"
      },
      "source": [
        "#print('\\033[4mLast 5 Buy signal \\033[0m')\r\n",
        "#buy = (round(trade.loc[buys.index], 2)['Close'])\r\n",
        "#buy = buy.reset_index()\r\n",
        "#buy"
      ],
      "execution_count": 137,
      "outputs": []
    },
    {
      "cell_type": "code",
      "metadata": {
        "id": "3a-zNPPuSjuF"
      },
      "source": [
        "#print('\\033[4mLast 5 Sell signal \\033[0m')\r\n",
        "#sell = (round(trade.loc[sells.index], 2)['Close'])\r\n",
        "#sell = sell.reset_index()\r\n",
        "#sell"
      ],
      "execution_count": 136,
      "outputs": []
    },
    {
      "cell_type": "code",
      "metadata": {
        "colab": {
          "base_uri": "https://localhost:8080/",
          "height": 225
        },
        "id": "3kKL2KlCZctJ",
        "outputId": "e9b0e278-541e-4b7a-b521-255e7b9e0e4d"
      },
      "source": [
        "df.tail()"
      ],
      "execution_count": 118,
      "outputs": [
        {
          "output_type": "execute_result",
          "data": {
            "text/html": [
              "<div>\n",
              "<style scoped>\n",
              "    .dataframe tbody tr th:only-of-type {\n",
              "        vertical-align: middle;\n",
              "    }\n",
              "\n",
              "    .dataframe tbody tr th {\n",
              "        vertical-align: top;\n",
              "    }\n",
              "\n",
              "    .dataframe thead th {\n",
              "        text-align: right;\n",
              "    }\n",
              "</style>\n",
              "<table border=\"1\" class=\"dataframe\">\n",
              "  <thead>\n",
              "    <tr style=\"text-align: right;\">\n",
              "      <th></th>\n",
              "      <th>Open</th>\n",
              "      <th>High</th>\n",
              "      <th>Low</th>\n",
              "      <th>Close</th>\n",
              "      <th>Volume</th>\n",
              "    </tr>\n",
              "    <tr>\n",
              "      <th>Date</th>\n",
              "      <th></th>\n",
              "      <th></th>\n",
              "      <th></th>\n",
              "      <th></th>\n",
              "      <th></th>\n",
              "    </tr>\n",
              "  </thead>\n",
              "  <tbody>\n",
              "    <tr>\n",
              "      <th>2020-12-30</th>\n",
              "      <td>27360.089844</td>\n",
              "      <td>28937.740234</td>\n",
              "      <td>27360.089844</td>\n",
              "      <td>28840.953125</td>\n",
              "      <td>51287442704</td>\n",
              "    </tr>\n",
              "    <tr>\n",
              "      <th>2020-12-31</th>\n",
              "      <td>28841.574219</td>\n",
              "      <td>29244.876953</td>\n",
              "      <td>28201.992188</td>\n",
              "      <td>29001.720703</td>\n",
              "      <td>46754964848</td>\n",
              "    </tr>\n",
              "    <tr>\n",
              "      <th>2021-01-01</th>\n",
              "      <td>28994.009766</td>\n",
              "      <td>29600.626953</td>\n",
              "      <td>28803.585938</td>\n",
              "      <td>29374.152344</td>\n",
              "      <td>40730301359</td>\n",
              "    </tr>\n",
              "    <tr>\n",
              "      <th>2021-01-02</th>\n",
              "      <td>29376.455078</td>\n",
              "      <td>33155.117188</td>\n",
              "      <td>29091.181641</td>\n",
              "      <td>32127.267578</td>\n",
              "      <td>67865420765</td>\n",
              "    </tr>\n",
              "    <tr>\n",
              "      <th>2021-01-03</th>\n",
              "      <td>32512.191406</td>\n",
              "      <td>32804.953125</td>\n",
              "      <td>32055.917969</td>\n",
              "      <td>32599.750000</td>\n",
              "      <td>70564462592</td>\n",
              "    </tr>\n",
              "  </tbody>\n",
              "</table>\n",
              "</div>"
            ],
            "text/plain": [
              "                    Open          High           Low         Close       Volume\n",
              "Date                                                                           \n",
              "2020-12-30  27360.089844  28937.740234  27360.089844  28840.953125  51287442704\n",
              "2020-12-31  28841.574219  29244.876953  28201.992188  29001.720703  46754964848\n",
              "2021-01-01  28994.009766  29600.626953  28803.585938  29374.152344  40730301359\n",
              "2021-01-02  29376.455078  33155.117188  29091.181641  32127.267578  67865420765\n",
              "2021-01-03  32512.191406  32804.953125  32055.917969  32599.750000  70564462592"
            ]
          },
          "metadata": {
            "tags": []
          },
          "execution_count": 118
        }
      ]
    },
    {
      "cell_type": "code",
      "metadata": {
        "id": "s_q5AU2rZXNm"
      },
      "source": [
        "def trading_strategy(df, window_size):\r\n",
        "    #newSt = pd.DataFrame(index=df.index)\r\n",
        "    newSt = df[['Close']]\r\n",
        "    newSt['orders'] = 0\r\n",
        "    # window_size-days high\r\n",
        "    newSt['High'] = df['Close'].shift(1).rolling(window=window_size).max()\r\n",
        "    # window_size-days low\r\n",
        "    newSt['Low'] = df['Close'].shift(1).rolling(window=window_size).min()\r\n",
        "    # window_size-days mean\r\n",
        "    newSt['Avg'] = df['Close'].shift(1).rolling(window=window_size).mean()\r\n",
        "\r\n",
        "    # entry rule : stock price > the higest value for window_size day\r\n",
        "    #              stock price < the lowest value for window_size day\r\n",
        "\r\n",
        "    newSt['long_entry'] = df['Close'] > newSt.High\r\n",
        "    newSt['short_entry'] = df['Close'] < newSt.Low\r\n",
        "\r\n",
        "    #exit rule : the stock price crosses the mean of past window_size days.\r\n",
        "\r\n",
        "    newSt['long_exit'] = df['Close'] < newSt.Avg\r\n",
        "    newSt['short_exit'] = df['Close'] > newSt.Avg\r\n",
        "\r\n",
        "    init=True\r\n",
        "    position=0\r\n",
        "    for k in range(len(newSt)):\r\n",
        "        if newSt['long_entry'][k] and position==0:\r\n",
        "            newSt.orders.values[k] = 1\r\n",
        "            position=1\r\n",
        "        elif newSt['short_entry'][k] and position==0:\r\n",
        "            newSt.orders.values[k] = -1\r\n",
        "            position=-1\r\n",
        "        elif newSt['short_exit'][k] and position>0:\r\n",
        "            newSt.orders.values[k] = -1\r\n",
        "            position = 0\r\n",
        "        elif newSt['long_exit'][k] and position < 0:\r\n",
        "            newSt.orders.values[k] = 1\r\n",
        "            position = 0\r\n",
        "        else:\r\n",
        "            newSt.orders.values[k] = 0\r\n",
        "\r\n",
        "    return newSt"
      ],
      "execution_count": 119,
      "outputs": []
    },
    {
      "cell_type": "code",
      "metadata": {
        "id": "wTUuNRdTgifU"
      },
      "source": [
        "#newSt = df[['Close']]\r\n",
        "#newSt"
      ],
      "execution_count": 126,
      "outputs": []
    },
    {
      "cell_type": "code",
      "metadata": {
        "id": "51koJjvvj8aN"
      },
      "source": [
        "#ts"
      ],
      "execution_count": 127,
      "outputs": []
    },
    {
      "cell_type": "code",
      "metadata": {
        "colab": {
          "base_uri": "https://localhost:8080/",
          "height": 391
        },
        "id": "ytfLVZe6gylw",
        "outputId": "7cbb541e-8f19-433e-cdbb-44cea0cc5cda"
      },
      "source": [
        "ts=trading_strategy(df, 24)\r\n",
        "\r\n",
        "buys = ts.loc[ts['orders'] == 1]\r\n",
        "sells = ts.loc[ts['orders'] == -1]\r\n",
        "\r\n",
        "fig = plt.figure(figsize=(15,6))\r\n",
        "plt.plot(df[\"Close\"], color='g', lw=.5)\r\n",
        "plt.plot(ts[\"High\"], color='g', lw=.5)\r\n",
        "plt.plot(ts[\"Low\"], color='r', lw=.5)\r\n",
        "plt.plot(ts[\"Avg\"], color='b', lw=.5)\r\n",
        "plt.plot(buys.index, ts.loc[buys.index]['Close'],\r\n",
        "         '^', markersize=5, color='blue', label='Buy')\r\n",
        "plt.plot(sells.index, ts.loc[sells.index]['Close'],\r\n",
        "         'v', markersize = 3, color='r', label = 'Sell')\r\n",
        "plt.legend([\"Price\",\"Highs\",\"Lows\",\"Average\",\"Buy\",\"Sell\"])\r\n",
        "plt.title(\"Bitcoin New Trading Strategy\")\r\n",
        "\r\n",
        "plt.show()\r\n",
        "\r\n"
      ],
      "execution_count": 143,
      "outputs": [
        {
          "output_type": "display_data",
          "data": {
            "image/png": "[encoded data removed]",
            "text/plain": [
              "<Figure size 1080x432 with 1 Axes>"
            ]
          },
          "metadata": {
            "tags": []
          }
        }
      ]
    },
    {
      "cell_type": "code",
      "metadata": {
        "colab": {
          "base_uri": "https://localhost:8080/"
        },
        "id": "r-t6GmXOm7uC",
        "outputId": "a19f3bcc-f6d3-4cf9-a87b-58b588742cb1"
      },
      "source": [
        "ts.orders.value_counts()"
      ],
      "execution_count": 148,
      "outputs": [
        {
          "output_type": "execute_result",
          "data": {
            "text/plain": [
              " 0    1670\n",
              " 1     316\n",
              "-1     315\n",
              "Name: orders, dtype: int64"
            ]
          },
          "metadata": {
            "tags": []
          },
          "execution_count": 148
        }
      ]
    }
  ]
}